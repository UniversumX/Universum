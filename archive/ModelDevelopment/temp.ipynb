{
 "cells": [
  {
   "cell_type": "code",
   "execution_count": 5,
   "metadata": {},
   "outputs": [
    {
     "name": "stdout",
     "output_type": "stream",
     "text": [
      "/home/matthandzel/Code/Projects/Universum/ModelDevelopment/data\n",
      "BCICIV_calib_ds1e_cnt.txt\n",
      "BCICIV_calib_ds1g_nfo.txt\n",
      "BCICIV_eval_ds1g_nfo.txt\n",
      "BCICIV_calib_ds1a_cnt.tsv\n",
      "BCICIV_calib_ds1e_nfo.txt\n",
      "BCICIV_calib_ds1c_mrk.txt\n",
      "BCICIV_eval_ds1c_cnt.txt\n",
      "BCICIV_calib_ds1g_mrk.txt\n",
      "BCICIV_eval_ds1d_nfo.txt\n",
      "BCICIV_calib_ds1b_nfo.txt\n",
      "BCICIV_eval_ds1f_cnt.txt\n",
      "BCICIV_eval_ds1f_nfo.txt\n",
      "BCICIV_calib_ds1a_nfo.txt\n",
      "BCICIV_calib_ds1c_cnt.txt\n",
      "BCICIV_calib_ds1d_mrk.txt\n",
      "BCICIV_eval_ds1b_cnt.txt\n",
      "BCICIV_eval_ds1d_cnt.txt\n",
      "BCICIV_calib_ds1d_nfo.txt\n",
      "BCICIV_eval_ds1a_nfo.txt\n",
      "BCICIV_calib_ds1c_nfo.txt\n",
      "BCICIV_eval_ds1c_nfo.txt\n",
      "BCICIV_calib_ds1a_mrk.txt\n",
      "BCICIV_eval_ds1e_nfo.txt\n",
      "BCICIV_eval_ds1e_cnt.txt\n",
      "BCICIV_calib_ds1b_mrk.txt\n",
      "BCICIV_eval_ds1g_cnt.txt\n",
      "BCICIV_eval_ds1a_cnt.txt\n",
      "BCICIV_calib_ds1e_mrk.txt\n",
      "BCICIV_calib_ds1g_cnt.txt\n",
      "BCICIV_calib_ds1f_mrk.txt\n",
      "BCICIV_calib_ds1f_nfo.txt\n",
      "BCICIV_calib_ds1d_cnt.txt\n",
      "BCICIV_eval_ds1b_nfo.txt\n",
      "BCICIV_calib_ds1f_cnt.txt\n",
      "BCICIV_calib_ds1b_cnt.txt\n"
     ]
    }
   ],
   "source": [
    "# rename files to tsv\n",
    "%cd ./data/\n",
    "import os\n",
    "\n",
    "for filename in os.listdir(\".\"):\n",
    "    print(filename)\n",
    "    if filename.endswith(\".txt\") and \"nfo\" not in filename:\n",
    "        os.rename(filename, filename[:-4] + \".tsv\")"
   ]
  }
 ],
 "metadata": {
  "kernelspec": {
   "display_name": "base",
   "language": "python",
   "name": "python3"
  },
  "language_info": {
   "codemirror_mode": {
    "name": "ipython",
    "version": 3
   },
   "file_extension": ".py",
   "mimetype": "text/x-python",
   "name": "python",
   "nbconvert_exporter": "python",
   "pygments_lexer": "ipython3",
   "version": "3.9.13"
  }
 },
 "nbformat": 4,
 "nbformat_minor": 2
}
