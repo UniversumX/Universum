{
  "cells": [
    {
      "cell_type": "code",
      "execution_count": null,
      "metadata": {},
      "outputs": [],
      "source": []
    },
    {
      "cell_type": "code",
      "execution_count": null,
      "metadata": {},
      "outputs": [],
      "source": []
    },
    {
      "cell_type": "code",
      "execution_count": 1,
      "metadata": {
        "id": "eIZuaC_C-UIX",
        "outputId": "389b3327-bfaf-4d75-edb3-dce32b13d2ab"
      },
      "outputs": [],
      "source": [
        "# !pip install mne\n",
        "import torch\n",
        "import torch.nn as nn\n",
        "from torch.nn import functional as F\n",
        "import glob\n",
        "import os\n",
        "\n",
        "\n",
        "import numpy as np\n",
        "import mne\n",
        "import torch.optim as optim"
      ]
    },
    {
      "cell_type": "code",
      "execution_count": 22,
      "metadata": {},
      "outputs": [],
      "source": [
        "B = 3  # batch size\n",
        "S = 21\n",
        "C = 120\n",
        "L = 150\n",
        "M = L//5  # reduced temporal dimension\n",
        "num_heads = 5\n",
        "device='cuda'"
      ]
    },
    {
      "cell_type": "code",
      "execution_count": 23,
      "metadata": {
        "id": "-8ehN2De-UIc"
      },
      "outputs": [],
      "source": [
        "def find_files_by_extension(search_pattern):\n",
        "    edf_files = glob.glob(search_pattern, recursive=True)\n",
        "    return edf_files"
      ]
    },
    {
      "cell_type": "code",
      "execution_count": 24,
      "metadata": {
        "id": "mOsapmWs-UId",
        "outputId": "69c0f2ba-44cb-485c-9d6f-9ef7b1345932"
      },
      "outputs": [],
      "source": [
        "search_pattern = pattern = r\"C:\\Users\\DELL\\Downloads\\tukl\\Implementations\\eegformer\\dataset_s\\*\\*\\*.edf\"\n",
        "file_paths = find_files_by_extension(search_pattern)\n",
        "\n",
        "for file_path in file_paths[:9]:\n",
        "    print(file_path)"
      ]
    },
    {
      "cell_type": "code",
      "execution_count": 25,
      "metadata": {
        "colab": {
          "base_uri": "https://localhost:8080/",
          "height": 1000
        },
        "id": "hBd4_YSe-UIf",
        "outputId": "ecf2350d-6d7d-4508-bd59-a70d481ab57b"
      },
      "outputs": [
        {
          "name": "stdout",
          "output_type": "stream",
          "text": [
            "Extracting EDF parameters from /home/arooba/ssd/hira/eegformer_try_2/C:\\Users\\DELL\\Downloads\\tukl\\Implementations\\eegformer\\dataset_s\\abnormal\\eval\\0000036.edf...\n",
            "EDF file detected\n"
          ]
        },
        {
          "ename": "FileNotFoundError",
          "evalue": "[Errno 2] No such file or directory: '/home/arooba/ssd/hira/eegformer_try_2/C:\\\\Users\\\\DELL\\\\Downloads\\\\tukl\\\\Implementations\\\\eegformer\\\\dataset_s\\\\abnormal\\\\eval\\\\0000036.edf'",
          "output_type": "error",
          "traceback": [
            "\u001b[0;31m---------------------------------------------------------------------------\u001b[0m",
            "\u001b[0;31mFileNotFoundError\u001b[0m                         Traceback (most recent call last)",
            "Cell \u001b[0;32mIn[25], line 4\u001b[0m\n\u001b[1;32m      1\u001b[0m \u001b[39mimport\u001b[39;00m \u001b[39mmne\u001b[39;00m\n\u001b[1;32m      2\u001b[0m \u001b[39m# Open the EDF file\u001b[39;00m\n\u001b[1;32m      3\u001b[0m \u001b[39m# edf_file = mne.io.read_raw_edf(r'/content/0000002.edf')\u001b[39;00m\n\u001b[0;32m----> 4\u001b[0m edf_file \u001b[39m=\u001b[39m mne\u001b[39m.\u001b[39;49mio\u001b[39m.\u001b[39;49mread_raw_edf(\u001b[39mr\u001b[39;49m\u001b[39m'\u001b[39;49m\u001b[39mC:\u001b[39;49m\u001b[39m\\\u001b[39;49m\u001b[39mUsers\u001b[39;49m\u001b[39m\\\u001b[39;49m\u001b[39mDELL\u001b[39;49m\u001b[39m\\\u001b[39;49m\u001b[39mDownloads\u001b[39;49m\u001b[39m\\\u001b[39;49m\u001b[39mtukl\u001b[39;49m\u001b[39m\\\u001b[39;49m\u001b[39mImplementations\u001b[39;49m\u001b[39m\\\u001b[39;49m\u001b[39meegformer\u001b[39;49m\u001b[39m\\\u001b[39;49m\u001b[39mdataset_s\u001b[39;49m\u001b[39m\\\u001b[39;49m\u001b[39mabnormal\u001b[39;49m\u001b[39m\\\u001b[39;49m\u001b[39meval\u001b[39;49m\u001b[39m\\\u001b[39;49m\u001b[39m0000036.edf\u001b[39;49m\u001b[39m'\u001b[39;49m)\n\u001b[1;32m      5\u001b[0m \u001b[39m# Print basic information about the file\u001b[39;00m\n\u001b[1;32m      6\u001b[0m \u001b[39mprint\u001b[39m(edf_file\u001b[39m.\u001b[39minfo)\n",
            "File \u001b[0;32m~/.local/lib/python3.10/site-packages/mne/io/edf/edf.py:1171\u001b[0m, in \u001b[0;36mread_raw_edf\u001b[0;34m(input_fname, montage, eog, misc, stim_channel, exclude, preload, verbose)\u001b[0m\n\u001b[1;32m   1168\u001b[0m \u001b[39melif\u001b[39;00m ext \u001b[39mnot\u001b[39;00m \u001b[39min\u001b[39;00m (\u001b[39m'\u001b[39m\u001b[39medf\u001b[39m\u001b[39m'\u001b[39m, \u001b[39m'\u001b[39m\u001b[39mbdf\u001b[39m\u001b[39m'\u001b[39m):\n\u001b[1;32m   1169\u001b[0m     \u001b[39mraise\u001b[39;00m \u001b[39mNotImplementedError\u001b[39;00m(\u001b[39m'\u001b[39m\u001b[39mOnly EDF and BDF files are supported, got \u001b[39m\u001b[39m'\u001b[39m\n\u001b[1;32m   1170\u001b[0m                               \u001b[39m'\u001b[39m\u001b[39m{}\u001b[39;00m\u001b[39m.\u001b[39m\u001b[39m'\u001b[39m\u001b[39m.\u001b[39mformat(ext))\n\u001b[0;32m-> 1171\u001b[0m \u001b[39mreturn\u001b[39;00m RawEDF(input_fname\u001b[39m=\u001b[39;49minput_fname, montage\u001b[39m=\u001b[39;49mmontage, eog\u001b[39m=\u001b[39;49meog, misc\u001b[39m=\u001b[39;49mmisc,\n\u001b[1;32m   1172\u001b[0m               stim_channel\u001b[39m=\u001b[39;49mstim_channel, exclude\u001b[39m=\u001b[39;49mexclude, preload\u001b[39m=\u001b[39;49mpreload,\n\u001b[1;32m   1173\u001b[0m               verbose\u001b[39m=\u001b[39;49mverbose)\n",
            "File \u001b[0;32m</home/arooba/.local/lib/python3.10/site-packages/mne/externals/decorator.py:decorator-gen-157>:2\u001b[0m, in \u001b[0;36m__init__\u001b[0;34m(self, input_fname, montage, eog, misc, stim_channel, exclude, preload, verbose)\u001b[0m\n",
            "File \u001b[0;32m~/.local/lib/python3.10/site-packages/mne/utils/_logging.py:90\u001b[0m, in \u001b[0;36mverbose.<locals>.wrapper\u001b[0;34m(*args, **kwargs)\u001b[0m\n\u001b[1;32m     88\u001b[0m     \u001b[39mwith\u001b[39;00m use_log_level(verbose_level):\n\u001b[1;32m     89\u001b[0m         \u001b[39mreturn\u001b[39;00m function(\u001b[39m*\u001b[39margs, \u001b[39m*\u001b[39m\u001b[39m*\u001b[39mkwargs)\n\u001b[0;32m---> 90\u001b[0m \u001b[39mreturn\u001b[39;00m function(\u001b[39m*\u001b[39;49margs, \u001b[39m*\u001b[39;49m\u001b[39m*\u001b[39;49mkwargs)\n",
            "File \u001b[0;32m~/.local/lib/python3.10/site-packages/mne/io/edf/edf.py:115\u001b[0m, in \u001b[0;36mRawEDF.__init__\u001b[0;34m(self, input_fname, montage, eog, misc, stim_channel, exclude, preload, verbose)\u001b[0m\n\u001b[1;32m    113\u001b[0m logger\u001b[39m.\u001b[39minfo(\u001b[39m'\u001b[39m\u001b[39mExtracting EDF parameters from \u001b[39m\u001b[39m{}\u001b[39;00m\u001b[39m...\u001b[39m\u001b[39m'\u001b[39m\u001b[39m.\u001b[39mformat(input_fname))\n\u001b[1;32m    114\u001b[0m input_fname \u001b[39m=\u001b[39m os\u001b[39m.\u001b[39mpath\u001b[39m.\u001b[39mabspath(input_fname)\n\u001b[0;32m--> 115\u001b[0m info, edf_info, orig_units \u001b[39m=\u001b[39m _get_info(input_fname,\n\u001b[1;32m    116\u001b[0m                                        stim_channel, eog, misc,\n\u001b[1;32m    117\u001b[0m                                        exclude, preload)\n\u001b[1;32m    118\u001b[0m logger\u001b[39m.\u001b[39minfo(\u001b[39m'\u001b[39m\u001b[39mCreating raw.info structure...\u001b[39m\u001b[39m'\u001b[39m)\n\u001b[1;32m    120\u001b[0m \u001b[39m# Raw attributes\u001b[39;00m\n",
            "File \u001b[0;32m~/.local/lib/python3.10/site-packages/mne/io/edf/edf.py:386\u001b[0m, in \u001b[0;36m_get_info\u001b[0;34m(fname, stim_channel, eog, misc, exclude, preload)\u001b[0m\n\u001b[1;32m    383\u001b[0m eog \u001b[39m=\u001b[39m eog \u001b[39mif\u001b[39;00m eog \u001b[39mis\u001b[39;00m \u001b[39mnot\u001b[39;00m \u001b[39mNone\u001b[39;00m \u001b[39melse\u001b[39;00m []\n\u001b[1;32m    384\u001b[0m misc \u001b[39m=\u001b[39m misc \u001b[39mif\u001b[39;00m misc \u001b[39mis\u001b[39;00m \u001b[39mnot\u001b[39;00m \u001b[39mNone\u001b[39;00m \u001b[39melse\u001b[39;00m []\n\u001b[0;32m--> 386\u001b[0m edf_info, orig_units \u001b[39m=\u001b[39m _read_header(fname, exclude)\n\u001b[1;32m    388\u001b[0m \u001b[39m# XXX: `tal_ch_names` to pass to `_check_stim_channel` should be computed\u001b[39;00m\n\u001b[1;32m    389\u001b[0m \u001b[39m#      from `edf_info['ch_names']` and `edf_info['tal_idx']` but 'tal_idx'\u001b[39;00m\n\u001b[1;32m    390\u001b[0m \u001b[39m#      contains stim channels that are not TAL.\u001b[39;00m\n\u001b[1;32m    391\u001b[0m stim_ch_idxs, stim_ch_names \u001b[39m=\u001b[39m _check_stim_channel(stim_channel,\n\u001b[1;32m    392\u001b[0m                                                   edf_info[\u001b[39m'\u001b[39m\u001b[39mch_names\u001b[39m\u001b[39m'\u001b[39m])\n",
            "File \u001b[0;32m~/.local/lib/python3.10/site-packages/mne/io/edf/edf.py:373\u001b[0m, in \u001b[0;36m_read_header\u001b[0;34m(fname, exclude)\u001b[0m\n\u001b[1;32m    371\u001b[0m logger\u001b[39m.\u001b[39minfo(\u001b[39m'\u001b[39m\u001b[39m%s\u001b[39;00m\u001b[39m file detected\u001b[39m\u001b[39m'\u001b[39m \u001b[39m%\u001b[39m ext\u001b[39m.\u001b[39mupper())\n\u001b[1;32m    372\u001b[0m \u001b[39mif\u001b[39;00m ext \u001b[39min\u001b[39;00m (\u001b[39m'\u001b[39m\u001b[39mbdf\u001b[39m\u001b[39m'\u001b[39m, \u001b[39m'\u001b[39m\u001b[39medf\u001b[39m\u001b[39m'\u001b[39m):\n\u001b[0;32m--> 373\u001b[0m     \u001b[39mreturn\u001b[39;00m _read_edf_header(fname, exclude)\n\u001b[1;32m    374\u001b[0m \u001b[39melif\u001b[39;00m ext \u001b[39min\u001b[39;00m (\u001b[39m'\u001b[39m\u001b[39mgdf\u001b[39m\u001b[39m'\u001b[39m):\n\u001b[1;32m    375\u001b[0m     \u001b[39mreturn\u001b[39;00m _read_gdf_header(fname, exclude), \u001b[39mNone\u001b[39;00m\n",
            "File \u001b[0;32m~/.local/lib/python3.10/site-packages/mne/io/edf/edf.py:519\u001b[0m, in \u001b[0;36m_read_edf_header\u001b[0;34m(fname, exclude)\u001b[0m\n\u001b[1;32m    516\u001b[0m \u001b[39m\u001b[39m\u001b[39m\"\"\"Read header information from EDF+ or BDF file.\"\"\"\u001b[39;00m\n\u001b[1;32m    517\u001b[0m edf_info \u001b[39m=\u001b[39m {\u001b[39m'\u001b[39m\u001b[39mevents\u001b[39m\u001b[39m'\u001b[39m: []}\n\u001b[0;32m--> 519\u001b[0m \u001b[39mwith\u001b[39;00m \u001b[39mopen\u001b[39;49m(fname, \u001b[39m'\u001b[39;49m\u001b[39mrb\u001b[39;49m\u001b[39m'\u001b[39;49m) \u001b[39mas\u001b[39;00m fid:\n\u001b[1;32m    521\u001b[0m     fid\u001b[39m.\u001b[39mread(\u001b[39m8\u001b[39m)  \u001b[39m# version (unused here)\u001b[39;00m\n\u001b[1;32m    523\u001b[0m     \u001b[39m# patient ID\u001b[39;00m\n",
            "\u001b[0;31mFileNotFoundError\u001b[0m: [Errno 2] No such file or directory: '/home/arooba/ssd/hira/eegformer_try_2/C:\\\\Users\\\\DELL\\\\Downloads\\\\tukl\\\\Implementations\\\\eegformer\\\\dataset_s\\\\abnormal\\\\eval\\\\0000036.edf'"
          ]
        }
      ],
      "source": [
        "import mne\n",
        "# Open the EDF file\n",
        "# edf_file = mne.io.read_raw_edf(r'/content/0000002.edf')\n",
        "edf_file = mne.io.read_raw_edf(r'C:\\Users\\DELL\\Downloads\\tukl\\Implementations\\eegformer\\dataset_s\\abnormal\\eval\\0000036.edf')\n",
        "# Print basic information about the file\n",
        "print(edf_file.info)\n",
        "# Plot the raw data\n",
        "edf_file.plot(duration=3000, n_channels=10)  # Adjust the duration and number of channels as needed\n"
      ]
    },
    {
      "cell_type": "code",
      "execution_count": 26,
      "metadata": {
        "colab": {
          "base_uri": "https://localhost:8080/"
        },
        "id": "0VWoJ9AK-UIh",
        "outputId": "dcb83641-f4d9-49bd-d2fd-deeb33e25e06"
      },
      "outputs": [
        {
          "ename": "NameError",
          "evalue": "name 'edf_file' is not defined",
          "output_type": "error",
          "traceback": [
            "\u001b[0;31m---------------------------------------------------------------------------\u001b[0m",
            "\u001b[0;31mNameError\u001b[0m                                 Traceback (most recent call last)",
            "Cell \u001b[0;32mIn[26], line 18\u001b[0m\n\u001b[1;32m     16\u001b[0m original_sampling_freq \u001b[39m=\u001b[39m \u001b[39m200\u001b[39m\n\u001b[1;32m     17\u001b[0m target_sampling_freq \u001b[39m=\u001b[39m \u001b[39m100\u001b[39m\n\u001b[0;32m---> 18\u001b[0m eeg_data \u001b[39m=\u001b[39m edf_file\u001b[39m.\u001b[39mget_data()\n\u001b[1;32m     20\u001b[0m downsampled_eeg_data \u001b[39m=\u001b[39m downsample_signal(original_sampling_freq, target_sampling_freq, eeg_data)\n\u001b[1;32m     22\u001b[0m \u001b[39m# Example usage: Print the dimensions of the downsampled EEG data\u001b[39;00m\n",
            "\u001b[0;31mNameError\u001b[0m: name 'edf_file' is not defined"
          ]
        }
      ],
      "source": [
        "import numpy as np\n",
        "from scipy import signal\n",
        "\n",
        "def downsample_signal(original_sampling_freq, target_sampling_freq, signal_data):\n",
        "    original_num_samples = signal_data.shape[1]\n",
        "    original_time = np.arange(original_num_samples) / original_sampling_freq\n",
        "\n",
        "    target_num_samples = int(original_num_samples * (target_sampling_freq / original_sampling_freq))\n",
        "    target_time = np.arange(target_num_samples) / target_sampling_freq\n",
        "\n",
        "    downsampled_signal = signal.resample(signal_data, target_num_samples, axis=1)\n",
        "\n",
        "    return downsampled_signal\n",
        "\n",
        "# Example usage:\n",
        "original_sampling_freq = 200\n",
        "target_sampling_freq = 100\n",
        "eeg_data = edf_file.get_data()\n",
        "\n",
        "downsampled_eeg_data = downsample_signal(original_sampling_freq, target_sampling_freq, eeg_data)\n",
        "\n",
        "# Example usage: Print the dimensions of the downsampled EEG data\n",
        "print(\"original: \", eeg_data.shape)\n",
        "print(\"downsampled: \", downsampled_eeg_data.shape)\n"
      ]
    },
    {
      "cell_type": "code",
      "execution_count": 27,
      "metadata": {
        "colab": {
          "base_uri": "https://localhost:8080/"
        },
        "id": "pALLao7V-UIi",
        "outputId": "2a2775ab-99fb-444c-e892-9bb2189d838a"
      },
      "outputs": [
        {
          "ename": "NameError",
          "evalue": "name 'downsampled_eeg_data' is not defined",
          "output_type": "error",
          "traceback": [
            "\u001b[0;31m---------------------------------------------------------------------------\u001b[0m",
            "\u001b[0;31mNameError\u001b[0m                                 Traceback (most recent call last)",
            "Cell \u001b[0;32mIn[27], line 7\u001b[0m\n\u001b[1;32m      3\u001b[0m     detrended_signal \u001b[39m=\u001b[39m signal\u001b[39m.\u001b[39mdetrend(signal_data, axis\u001b[39m=\u001b[39m\u001b[39m1\u001b[39m)\n\u001b[1;32m      4\u001b[0m     \u001b[39mreturn\u001b[39;00m torch\u001b[39m.\u001b[39mtensor(detrended_signal, dtype\u001b[39m=\u001b[39mtorch\u001b[39m.\u001b[39mfloat64)\n\u001b[0;32m----> 7\u001b[0m detrended_eeg_data \u001b[39m=\u001b[39m detrend_signal(downsampled_eeg_data)\n\u001b[1;32m      9\u001b[0m \u001b[39m# Example usage: Print the dimensions of the detrended EEG data\u001b[39;00m\n\u001b[1;32m     10\u001b[0m \u001b[39mprint\u001b[39m(detrended_eeg_data\u001b[39m.\u001b[39mshape)\n",
            "\u001b[0;31mNameError\u001b[0m: name 'downsampled_eeg_data' is not defined"
          ]
        }
      ],
      "source": [
        "# Detrend\n",
        "def detrend_signal(signal_data):\n",
        "    detrended_signal = signal.detrend(signal_data, axis=1)\n",
        "    return torch.tensor(detrended_signal, dtype=torch.float64)\n",
        "\n",
        "\n",
        "detrended_eeg_data = detrend_signal(downsampled_eeg_data)\n",
        "\n",
        "# Example usage: Print the dimensions of the detrended EEG data\n",
        "print(detrended_eeg_data.shape)"
      ]
    },
    {
      "cell_type": "code",
      "execution_count": 28,
      "metadata": {},
      "outputs": [
        {
          "ename": "FileNotFoundError",
          "evalue": "[Errno 2] No such file or directory: 'C:\\\\Users\\\\DELL\\\\Downloads\\\\tukl\\\\Implementations\\\\eegformer\\\\dataset_s\\\\new.csv'",
          "output_type": "error",
          "traceback": [
            "\u001b[0;31m---------------------------------------------------------------------------\u001b[0m",
            "\u001b[0;31mFileNotFoundError\u001b[0m                         Traceback (most recent call last)",
            "Cell \u001b[0;32mIn[28], line 18\u001b[0m\n\u001b[1;32m     13\u001b[0m     label_reference \u001b[39m=\u001b[39m \u001b[39mdict\u001b[39m(\u001b[39mzip\u001b[39m(paths, labels))\n\u001b[1;32m     15\u001b[0m     \u001b[39mreturn\u001b[39;00m label_reference\n\u001b[0;32m---> 18\u001b[0m label_reference \u001b[39m=\u001b[39m generate_label_ref(path)\n",
            "Cell \u001b[0;32mIn[28], line 8\u001b[0m, in \u001b[0;36mgenerate_label_ref\u001b[0;34m(path)\u001b[0m\n\u001b[1;32m      6\u001b[0m labels_file_path \u001b[39m=\u001b[39m path\n\u001b[1;32m      7\u001b[0m \u001b[39m# Load the CSV file into a DataFrame\u001b[39;00m\n\u001b[0;32m----> 8\u001b[0m df \u001b[39m=\u001b[39m pd\u001b[39m.\u001b[39;49mread_csv(labels_file_path)\n\u001b[1;32m     10\u001b[0m paths \u001b[39m=\u001b[39m df[\u001b[39m\"\u001b[39m\u001b[39mpaths\u001b[39m\u001b[39m\"\u001b[39m]\u001b[39m.\u001b[39mtolist()\n\u001b[1;32m     11\u001b[0m labels \u001b[39m=\u001b[39m df[\u001b[39m\"\u001b[39m\u001b[39mlabels\u001b[39m\u001b[39m\"\u001b[39m]\u001b[39m.\u001b[39mtolist()\n",
            "File \u001b[0;32m~/.local/lib/python3.10/site-packages/pandas/util/_decorators.py:211\u001b[0m, in \u001b[0;36mdeprecate_kwarg.<locals>._deprecate_kwarg.<locals>.wrapper\u001b[0;34m(*args, **kwargs)\u001b[0m\n\u001b[1;32m    209\u001b[0m     \u001b[39melse\u001b[39;00m:\n\u001b[1;32m    210\u001b[0m         kwargs[new_arg_name] \u001b[39m=\u001b[39m new_arg_value\n\u001b[0;32m--> 211\u001b[0m \u001b[39mreturn\u001b[39;00m func(\u001b[39m*\u001b[39;49margs, \u001b[39m*\u001b[39;49m\u001b[39m*\u001b[39;49mkwargs)\n",
            "File \u001b[0;32m~/.local/lib/python3.10/site-packages/pandas/util/_decorators.py:331\u001b[0m, in \u001b[0;36mdeprecate_nonkeyword_arguments.<locals>.decorate.<locals>.wrapper\u001b[0;34m(*args, **kwargs)\u001b[0m\n\u001b[1;32m    325\u001b[0m \u001b[39mif\u001b[39;00m \u001b[39mlen\u001b[39m(args) \u001b[39m>\u001b[39m num_allow_args:\n\u001b[1;32m    326\u001b[0m     warnings\u001b[39m.\u001b[39mwarn(\n\u001b[1;32m    327\u001b[0m         msg\u001b[39m.\u001b[39mformat(arguments\u001b[39m=\u001b[39m_format_argument_list(allow_args)),\n\u001b[1;32m    328\u001b[0m         \u001b[39mFutureWarning\u001b[39;00m,\n\u001b[1;32m    329\u001b[0m         stacklevel\u001b[39m=\u001b[39mfind_stack_level(),\n\u001b[1;32m    330\u001b[0m     )\n\u001b[0;32m--> 331\u001b[0m \u001b[39mreturn\u001b[39;00m func(\u001b[39m*\u001b[39;49margs, \u001b[39m*\u001b[39;49m\u001b[39m*\u001b[39;49mkwargs)\n",
            "File \u001b[0;32m~/.local/lib/python3.10/site-packages/pandas/io/parsers/readers.py:950\u001b[0m, in \u001b[0;36mread_csv\u001b[0;34m(filepath_or_buffer, sep, delimiter, header, names, index_col, usecols, squeeze, prefix, mangle_dupe_cols, dtype, engine, converters, true_values, false_values, skipinitialspace, skiprows, skipfooter, nrows, na_values, keep_default_na, na_filter, verbose, skip_blank_lines, parse_dates, infer_datetime_format, keep_date_col, date_parser, dayfirst, cache_dates, iterator, chunksize, compression, thousands, decimal, lineterminator, quotechar, quoting, doublequote, escapechar, comment, encoding, encoding_errors, dialect, error_bad_lines, warn_bad_lines, on_bad_lines, delim_whitespace, low_memory, memory_map, float_precision, storage_options)\u001b[0m\n\u001b[1;32m    935\u001b[0m kwds_defaults \u001b[39m=\u001b[39m _refine_defaults_read(\n\u001b[1;32m    936\u001b[0m     dialect,\n\u001b[1;32m    937\u001b[0m     delimiter,\n\u001b[0;32m   (...)\u001b[0m\n\u001b[1;32m    946\u001b[0m     defaults\u001b[39m=\u001b[39m{\u001b[39m\"\u001b[39m\u001b[39mdelimiter\u001b[39m\u001b[39m\"\u001b[39m: \u001b[39m\"\u001b[39m\u001b[39m,\u001b[39m\u001b[39m\"\u001b[39m},\n\u001b[1;32m    947\u001b[0m )\n\u001b[1;32m    948\u001b[0m kwds\u001b[39m.\u001b[39mupdate(kwds_defaults)\n\u001b[0;32m--> 950\u001b[0m \u001b[39mreturn\u001b[39;00m _read(filepath_or_buffer, kwds)\n",
            "File \u001b[0;32m~/.local/lib/python3.10/site-packages/pandas/io/parsers/readers.py:605\u001b[0m, in \u001b[0;36m_read\u001b[0;34m(filepath_or_buffer, kwds)\u001b[0m\n\u001b[1;32m    602\u001b[0m _validate_names(kwds\u001b[39m.\u001b[39mget(\u001b[39m\"\u001b[39m\u001b[39mnames\u001b[39m\u001b[39m\"\u001b[39m, \u001b[39mNone\u001b[39;00m))\n\u001b[1;32m    604\u001b[0m \u001b[39m# Create the parser.\u001b[39;00m\n\u001b[0;32m--> 605\u001b[0m parser \u001b[39m=\u001b[39m TextFileReader(filepath_or_buffer, \u001b[39m*\u001b[39;49m\u001b[39m*\u001b[39;49mkwds)\n\u001b[1;32m    607\u001b[0m \u001b[39mif\u001b[39;00m chunksize \u001b[39mor\u001b[39;00m iterator:\n\u001b[1;32m    608\u001b[0m     \u001b[39mreturn\u001b[39;00m parser\n",
            "File \u001b[0;32m~/.local/lib/python3.10/site-packages/pandas/io/parsers/readers.py:1442\u001b[0m, in \u001b[0;36mTextFileReader.__init__\u001b[0;34m(self, f, engine, **kwds)\u001b[0m\n\u001b[1;32m   1439\u001b[0m     \u001b[39mself\u001b[39m\u001b[39m.\u001b[39moptions[\u001b[39m\"\u001b[39m\u001b[39mhas_index_names\u001b[39m\u001b[39m\"\u001b[39m] \u001b[39m=\u001b[39m kwds[\u001b[39m\"\u001b[39m\u001b[39mhas_index_names\u001b[39m\u001b[39m\"\u001b[39m]\n\u001b[1;32m   1441\u001b[0m \u001b[39mself\u001b[39m\u001b[39m.\u001b[39mhandles: IOHandles \u001b[39m|\u001b[39m \u001b[39mNone\u001b[39;00m \u001b[39m=\u001b[39m \u001b[39mNone\u001b[39;00m\n\u001b[0;32m-> 1442\u001b[0m \u001b[39mself\u001b[39m\u001b[39m.\u001b[39m_engine \u001b[39m=\u001b[39m \u001b[39mself\u001b[39;49m\u001b[39m.\u001b[39;49m_make_engine(f, \u001b[39mself\u001b[39;49m\u001b[39m.\u001b[39;49mengine)\n",
            "File \u001b[0;32m~/.local/lib/python3.10/site-packages/pandas/io/parsers/readers.py:1735\u001b[0m, in \u001b[0;36mTextFileReader._make_engine\u001b[0;34m(self, f, engine)\u001b[0m\n\u001b[1;32m   1733\u001b[0m     \u001b[39mif\u001b[39;00m \u001b[39m\"\u001b[39m\u001b[39mb\u001b[39m\u001b[39m\"\u001b[39m \u001b[39mnot\u001b[39;00m \u001b[39min\u001b[39;00m mode:\n\u001b[1;32m   1734\u001b[0m         mode \u001b[39m+\u001b[39m\u001b[39m=\u001b[39m \u001b[39m\"\u001b[39m\u001b[39mb\u001b[39m\u001b[39m\"\u001b[39m\n\u001b[0;32m-> 1735\u001b[0m \u001b[39mself\u001b[39m\u001b[39m.\u001b[39mhandles \u001b[39m=\u001b[39m get_handle(\n\u001b[1;32m   1736\u001b[0m     f,\n\u001b[1;32m   1737\u001b[0m     mode,\n\u001b[1;32m   1738\u001b[0m     encoding\u001b[39m=\u001b[39;49m\u001b[39mself\u001b[39;49m\u001b[39m.\u001b[39;49moptions\u001b[39m.\u001b[39;49mget(\u001b[39m\"\u001b[39;49m\u001b[39mencoding\u001b[39;49m\u001b[39m\"\u001b[39;49m, \u001b[39mNone\u001b[39;49;00m),\n\u001b[1;32m   1739\u001b[0m     compression\u001b[39m=\u001b[39;49m\u001b[39mself\u001b[39;49m\u001b[39m.\u001b[39;49moptions\u001b[39m.\u001b[39;49mget(\u001b[39m\"\u001b[39;49m\u001b[39mcompression\u001b[39;49m\u001b[39m\"\u001b[39;49m, \u001b[39mNone\u001b[39;49;00m),\n\u001b[1;32m   1740\u001b[0m     memory_map\u001b[39m=\u001b[39;49m\u001b[39mself\u001b[39;49m\u001b[39m.\u001b[39;49moptions\u001b[39m.\u001b[39;49mget(\u001b[39m\"\u001b[39;49m\u001b[39mmemory_map\u001b[39;49m\u001b[39m\"\u001b[39;49m, \u001b[39mFalse\u001b[39;49;00m),\n\u001b[1;32m   1741\u001b[0m     is_text\u001b[39m=\u001b[39;49mis_text,\n\u001b[1;32m   1742\u001b[0m     errors\u001b[39m=\u001b[39;49m\u001b[39mself\u001b[39;49m\u001b[39m.\u001b[39;49moptions\u001b[39m.\u001b[39;49mget(\u001b[39m\"\u001b[39;49m\u001b[39mencoding_errors\u001b[39;49m\u001b[39m\"\u001b[39;49m, \u001b[39m\"\u001b[39;49m\u001b[39mstrict\u001b[39;49m\u001b[39m\"\u001b[39;49m),\n\u001b[1;32m   1743\u001b[0m     storage_options\u001b[39m=\u001b[39;49m\u001b[39mself\u001b[39;49m\u001b[39m.\u001b[39;49moptions\u001b[39m.\u001b[39;49mget(\u001b[39m\"\u001b[39;49m\u001b[39mstorage_options\u001b[39;49m\u001b[39m\"\u001b[39;49m, \u001b[39mNone\u001b[39;49;00m),\n\u001b[1;32m   1744\u001b[0m )\n\u001b[1;32m   1745\u001b[0m \u001b[39massert\u001b[39;00m \u001b[39mself\u001b[39m\u001b[39m.\u001b[39mhandles \u001b[39mis\u001b[39;00m \u001b[39mnot\u001b[39;00m \u001b[39mNone\u001b[39;00m\n\u001b[1;32m   1746\u001b[0m f \u001b[39m=\u001b[39m \u001b[39mself\u001b[39m\u001b[39m.\u001b[39mhandles\u001b[39m.\u001b[39mhandle\n",
            "File \u001b[0;32m~/.local/lib/python3.10/site-packages/pandas/io/common.py:856\u001b[0m, in \u001b[0;36mget_handle\u001b[0;34m(path_or_buf, mode, encoding, compression, memory_map, is_text, errors, storage_options)\u001b[0m\n\u001b[1;32m    851\u001b[0m \u001b[39melif\u001b[39;00m \u001b[39misinstance\u001b[39m(handle, \u001b[39mstr\u001b[39m):\n\u001b[1;32m    852\u001b[0m     \u001b[39m# Check whether the filename is to be opened in binary mode.\u001b[39;00m\n\u001b[1;32m    853\u001b[0m     \u001b[39m# Binary mode does not support 'encoding' and 'newline'.\u001b[39;00m\n\u001b[1;32m    854\u001b[0m     \u001b[39mif\u001b[39;00m ioargs\u001b[39m.\u001b[39mencoding \u001b[39mand\u001b[39;00m \u001b[39m\"\u001b[39m\u001b[39mb\u001b[39m\u001b[39m\"\u001b[39m \u001b[39mnot\u001b[39;00m \u001b[39min\u001b[39;00m ioargs\u001b[39m.\u001b[39mmode:\n\u001b[1;32m    855\u001b[0m         \u001b[39m# Encoding\u001b[39;00m\n\u001b[0;32m--> 856\u001b[0m         handle \u001b[39m=\u001b[39m \u001b[39mopen\u001b[39;49m(\n\u001b[1;32m    857\u001b[0m             handle,\n\u001b[1;32m    858\u001b[0m             ioargs\u001b[39m.\u001b[39;49mmode,\n\u001b[1;32m    859\u001b[0m             encoding\u001b[39m=\u001b[39;49mioargs\u001b[39m.\u001b[39;49mencoding,\n\u001b[1;32m    860\u001b[0m             errors\u001b[39m=\u001b[39;49merrors,\n\u001b[1;32m    861\u001b[0m             newline\u001b[39m=\u001b[39;49m\u001b[39m\"\u001b[39;49m\u001b[39m\"\u001b[39;49m,\n\u001b[1;32m    862\u001b[0m         )\n\u001b[1;32m    863\u001b[0m     \u001b[39melse\u001b[39;00m:\n\u001b[1;32m    864\u001b[0m         \u001b[39m# Binary mode\u001b[39;00m\n\u001b[1;32m    865\u001b[0m         handle \u001b[39m=\u001b[39m \u001b[39mopen\u001b[39m(handle, ioargs\u001b[39m.\u001b[39mmode)\n",
            "\u001b[0;31mFileNotFoundError\u001b[0m: [Errno 2] No such file or directory: 'C:\\\\Users\\\\DELL\\\\Downloads\\\\tukl\\\\Implementations\\\\eegformer\\\\dataset_s\\\\new.csv'"
          ]
        }
      ],
      "source": [
        "import pandas as pd\n",
        "path = r\"C:\\Users\\DELL\\Downloads\\tukl\\Implementations\\eegformer\\dataset_s\\new.csv\"\n",
        "def generate_label_ref(path):\n",
        "    '''generates label ref dictionary from\n",
        "    the csv file'''\n",
        "    labels_file_path = path\n",
        "    # Load the CSV file into a DataFrame\n",
        "    df = pd.read_csv(labels_file_path)\n",
        "\n",
        "    paths = df[\"paths\"].tolist()\n",
        "    labels = df[\"labels\"].tolist()\n",
        "\n",
        "    label_reference = dict(zip(paths, labels))\n",
        "    \n",
        "    return label_reference\n",
        "\n",
        "\n",
        "label_reference = generate_label_ref(path)"
      ]
    },
    {
      "cell_type": "code",
      "execution_count": null,
      "metadata": {},
      "outputs": [],
      "source": [
        "# import torch\n",
        "# from torch.utils.data import Dataset, DataLoader\n",
        "\n",
        "# class TrainDataset(Dataset):\n",
        "#     def __init__(self, fdeviceile_paths, label_ref transform=None):\n",
        "#         self.file_paths = file_paths\n",
        "#         self.transform = transform\n",
        "#         self.label_reference = label_ref\n",
        "\n",
        "#     def __len__(self):\n",
        "#         return len(self.file_paths)\n",
        "\n",
        "#     def __getitem__(self, idx):\n",
        "#         file_path = self.file_paths[idx]\n",
        "#         # Load and preprocess your data here\n",
        "#         edf_file = mne.io.read_raw_edf(file_path)\n",
        "#         eeg_data = edf_file.get_data()\n",
        "#         downsampled_eeg_data = self.downsample_signal(original_sampling_freq, target_sampling_freq, eeg_data)\n",
        "#         data = self.detrend_signal(downsampled_eeg_data)  # tensor\n",
        "#         label = label_reference[file_path]\n",
        "\n",
        "#         return data, label  # Return the preprocessed data and label\n",
        "    \n",
        "#     def downsample_signal(self, original_sampling_freq, target_sampling_freq, signal_data):\n",
        "#         original_num_samples = signal_data.shape[1]\n",
        "#         original_time = np.arange(original_num_samples) / original_sampling_freq\n",
        "\n",
        "#         target_num_samples = int(original_num_samples * (target_sampling_freq / original_sampling_freq))\n",
        "#         target_time = np.arange(target_num_samples) / target_sampling_freq\n",
        "\n",
        "#         downsampled_signal = signal.resample(signal_data, target_num_samples, axis=1)\n",
        "\n",
        "#         return downsampled_signal\n",
        "\n",
        "#     def detrend_signal(self, signal_data):\n",
        "#         detrended_signal = signal.detrend(signal_data, axis=1)\n",
        "#         return torch.tensor(detrended_signal, dtype=torch.float64)\n",
        "\n",
        "# # Example usage:\n",
        "# file_paths = ['path/to/file1', 'path/to/file2', 'path/to/file3']\n",
        "# dataset = CustomDataset(file_paths)\n",
        "\n",
        "# batch_size = 32\n",
        "# dataloader = DataLoader(dataset, batch_size=batch_size, shuffle=True)\n",
        "\n",
        "# # Iterate over the dataset\n",
        "# for batch_data, batch_labels in dataloader:\n",
        "#     # Training or evaluation loop\n",
        "#     # ...\n",
        "\n"
      ]
    },
    {
      "cell_type": "code",
      "execution_count": null,
      "metadata": {},
      "outputs": [],
      "source": [
        "class TrainDataLoader:\n",
        "    def __init__(self, search_pattern, label_path):\n",
        "        self.file_paths = self.find_files_by_extension(search_pattern)\n",
        "        self.label_reference = self.generate_label_ref(label_path) \n",
        "\n",
        "    def __len__(self):\n",
        "        return len(self.file_paths)\n",
        "\n",
        "    def __getitem__(self, idx):\n",
        "        file_path = self.file_paths[idx]\n",
        "        # Load and preprocess your data here\n",
        "        edf_file = mne.io.read_raw_edf(file_path)\n",
        "        eeg_data = edf_file.get_data()\n",
        "        downsampled_eeg_data = self.downsample_signal(original_sampling_freq, target_sampling_freq, eeg_data)\n",
        "        data = self.detrend_signal(downsampled_eeg_data) * 1e6  # tensor\n",
        "        label = self.label_reference[file_path]\n",
        "\n",
        "        return data, label  # Return the preprocessed data and label    \n",
        "    \n",
        "    def generate_label_ref(self, path):\n",
        "        '''generates label ref dictionary from\n",
        "        the csv file'''\n",
        "        labels_file_path = path\n",
        "        # Load the CSV file into a DataFrame\n",
        "        df = pd.read_csv(labels_file_path)\n",
        "\n",
        "        paths = df[\"paths\"].tolist()\n",
        "        labels = df[\"labels\"].tolist()\n",
        "\n",
        "        label_reference = dict(zip(paths, labels))\n",
        "\n",
        "        return label_reference\n",
        "\n",
        "    def find_files_by_extension(self, search_pattern):\n",
        "        edf_files = glob.glob(search_pattern, recursive=True)\n",
        "        return edf_files  \n",
        "\n",
        "    def downsample_signal(self, original_sampling_freq, target_sampling_freq, signal_data):\n",
        "        original_num_samples = signal_data.shape[1]\n",
        "        original_time = np.arange(original_num_samples) / original_sampling_freq\n",
        "\n",
        "        target_num_samples = int(original_num_samples * (target_sampling_freq / original_sampling_freq))\n",
        "        target_time = np.arange(target_num_samples) / target_sampling_freq\n",
        "\n",
        "        downsampled_signal = signal.resample(signal_data, target_num_samples, axis=1)\n",
        "\n",
        "        return downsampled_signal\n",
        "\n",
        "    def detrend_signal(self, signal_data):\n",
        "        detrended_signal = signal.detrend(signal_data, axis=1)\n",
        "        return torch.tensor(detrended_signal, dtype=torch.float64)  \n"
      ]
    },
    {
      "cell_type": "code",
      "execution_count": 29,
      "metadata": {},
      "outputs": [
        {
          "ename": "NameError",
          "evalue": "name 'TrainDataLoader' is not defined",
          "output_type": "error",
          "traceback": [
            "\u001b[0;31m---------------------------------------------------------------------------\u001b[0m",
            "\u001b[0;31mNameError\u001b[0m                                 Traceback (most recent call last)",
            "Cell \u001b[0;32mIn[29], line 1\u001b[0m\n\u001b[0;32m----> 1\u001b[0m dataset \u001b[39m=\u001b[39m TrainDataLoader(search_pattern, path)\n",
            "\u001b[0;31mNameError\u001b[0m: name 'TrainDataLoader' is not defined"
          ]
        }
      ],
      "source": [
        "dataset = TrainDataLoader(search_pattern, path)"
      ]
    },
    {
      "cell_type": "code",
      "execution_count": 30,
      "metadata": {},
      "outputs": [
        {
          "ename": "NameError",
          "evalue": "name 'dataset' is not defined",
          "output_type": "error",
          "traceback": [
            "\u001b[0;31m---------------------------------------------------------------------------\u001b[0m",
            "\u001b[0;31mNameError\u001b[0m                                 Traceback (most recent call last)",
            "Cell \u001b[0;32mIn[30], line 2\u001b[0m\n\u001b[1;32m      1\u001b[0m minn \u001b[39m=\u001b[39m \u001b[39m0\u001b[39m\n\u001b[0;32m----> 2\u001b[0m \u001b[39mfor\u001b[39;00m x, y \u001b[39min\u001b[39;00m dataset:\n\u001b[1;32m      3\u001b[0m     \u001b[39mif\u001b[39;00m x\u001b[39m.\u001b[39mshape[\u001b[39m1\u001b[39m] \u001b[39m<\u001b[39m minn:\n\u001b[1;32m      4\u001b[0m         minn \u001b[39m=\u001b[39m x\u001b[39m.\u001b[39mshape[\u001b[39m1\u001b[39m]\n",
            "\u001b[0;31mNameError\u001b[0m: name 'dataset' is not defined"
          ]
        }
      ],
      "source": [
        "minn = 0\n",
        "for x, y in dataset:\n",
        "    if x.shape[1] < minn:\n",
        "        minn = x.shape[1]\n",
        "print(minn)"
      ]
    },
    {
      "cell_type": "code",
      "execution_count": 31,
      "metadata": {},
      "outputs": [
        {
          "ename": "NameError",
          "evalue": "name 'x' is not defined",
          "output_type": "error",
          "traceback": [
            "\u001b[0;31m---------------------------------------------------------------------------\u001b[0m",
            "\u001b[0;31mNameError\u001b[0m                                 Traceback (most recent call last)",
            "Cell \u001b[0;32mIn[31], line 1\u001b[0m\n\u001b[0;32m----> 1\u001b[0m \u001b[39mprint\u001b[39m(x\u001b[39m.\u001b[39mshape)\n",
            "\u001b[0;31mNameError\u001b[0m: name 'x' is not defined"
          ]
        }
      ],
      "source": [
        "print(x.shape)"
      ]
    },
    {
      "cell_type": "code",
      "execution_count": 32,
      "metadata": {},
      "outputs": [
        {
          "ename": "NameError",
          "evalue": "name 'y' is not defined",
          "output_type": "error",
          "traceback": [
            "\u001b[0;31m---------------------------------------------------------------------------\u001b[0m",
            "\u001b[0;31mNameError\u001b[0m                                 Traceback (most recent call last)",
            "Cell \u001b[0;32mIn[32], line 1\u001b[0m\n\u001b[0;32m----> 1\u001b[0m \u001b[39mprint\u001b[39m(y)\n",
            "\u001b[0;31mNameError\u001b[0m: name 'y' is not defined"
          ]
        }
      ],
      "source": [
        "print(y)"
      ]
    },
    {
      "cell_type": "code",
      "execution_count": 33,
      "metadata": {},
      "outputs": [],
      "source": [
        "def generate_unsegmented_dataset(file_paths, label_reference):\n",
        "    xs = [] # list of tensors\n",
        "    ys = [] # list of numbers\n",
        "\n",
        "    xs_eval = []\n",
        "    ys_eval = []\n",
        "\n",
        "    for file_path in file_paths:\n",
        "        # do not add eval data to the dataset\n",
        "        if 'eval' in file_path:\n",
        "            # if the label for the filepath is present in the reference, only then append label and path to dataset\n",
        "            try:\n",
        "                ys_eval.append(label_reference[file_path]) # numbers\n",
        "            except:\n",
        "                continue\n",
        "            edf_file = mne.io.read_raw_edf(file_path)\n",
        "            eeg_data = edf_file.get_data()\n",
        "            downsampled_eeg_data = downsample_signal(original_sampling_freq, target_sampling_freq, eeg_data)\n",
        "            detrended_eeg_data = detrend_signal(downsampled_eeg_data)  # tensor\n",
        "            xs_eval.append(detrended_eeg_data)\n",
        "        else:\n",
        "            # if the label for the filepath is present in the reference, only then append label and path to dataset\n",
        "            try:\n",
        "                ys.append(label_reference[file_path]) # numbers\n",
        "            except:\n",
        "                continue\n",
        "            edf_file = mne.io.read_raw_edf(file_path)\n",
        "            eeg_data = edf_file.get_data()\n",
        "            downsampled_eeg_data = downsample_signal(original_sampling_freq, target_sampling_freq, eeg_data)\n",
        "            detrended_eeg_data = detrend_signal(downsampled_eeg_data)  # tensor\n",
        "            xs.append(detrended_eeg_data)\n",
        "    \n",
        "    return xs, ys, xs_eval, ys_eval"
      ]
    },
    {
      "cell_type": "code",
      "execution_count": 34,
      "metadata": {},
      "outputs": [
        {
          "ename": "NameError",
          "evalue": "name 'label_reference' is not defined",
          "output_type": "error",
          "traceback": [
            "\u001b[0;31m---------------------------------------------------------------------------\u001b[0m",
            "\u001b[0;31mNameError\u001b[0m                                 Traceback (most recent call last)",
            "Cell \u001b[0;32mIn[34], line 1\u001b[0m\n\u001b[0;32m----> 1\u001b[0m X, Y, X_eval, Y_eval \u001b[39m=\u001b[39m generate_unsegmented_dataset(file_paths, label_reference)\n",
            "\u001b[0;31mNameError\u001b[0m: name 'label_reference' is not defined"
          ]
        }
      ],
      "source": [
        "X, Y, X_eval, Y_eval = generate_unsegmented_dataset(file_paths, label_reference)\n"
      ]
    },
    {
      "cell_type": "code",
      "execution_count": 35,
      "metadata": {},
      "outputs": [
        {
          "ename": "NameError",
          "evalue": "name 'X' is not defined",
          "output_type": "error",
          "traceback": [
            "\u001b[0;31m---------------------------------------------------------------------------\u001b[0m",
            "\u001b[0;31mNameError\u001b[0m                                 Traceback (most recent call last)",
            "Cell \u001b[0;32mIn[35], line 42\u001b[0m\n\u001b[1;32m     38\u001b[0m         data_Y_eval \u001b[39m=\u001b[39m torch\u001b[39m.\u001b[39mtensor(data_Y_eval)\n\u001b[1;32m     40\u001b[0m         \u001b[39mreturn\u001b[39;00m data_X\u001b[39m.\u001b[39mdouble(), data_Y\u001b[39m.\u001b[39mdouble(), data_X_eval\u001b[39m.\u001b[39mdouble(), data_Y_eval\u001b[39m.\u001b[39mdouble()\n\u001b[0;32m---> 42\u001b[0m data_X, data_Y, data_X_eval, data_Y_eval \u001b[39m=\u001b[39m segmented_dataset_builder(X, Y, X_eval, Y_eval, \u001b[39m150\u001b[39m, \u001b[39m1\u001b[39m)            \n",
            "\u001b[0;31mNameError\u001b[0m: name 'X' is not defined"
          ]
        }
      ],
      "source": [
        "def segmented_dataset_builder(xs, ys, xs_eval, ys_eval, segment_length, dim):\n",
        "    data_X = []\n",
        "    data_Y = []\n",
        "\n",
        "    data_X_eval = []\n",
        "    data_Y_eval = []\n",
        "\n",
        "    index = 0\n",
        "    for tensor in xs:\n",
        "        label = ys[index]\n",
        "        for i in range(tensor.size(dim) // segment_length):\n",
        "            start_idx = i * segment_length\n",
        "            end_idx = start_idx + segment_length\n",
        "\n",
        "            # Extract the segment\n",
        "            segment = tensor[:, start_idx:end_idx]\n",
        "\n",
        "            # Update data arrays\n",
        "            data_X.append(segment.tolist())\n",
        "            data_Y.append(label)\n",
        "\n",
        "    for tensor in xs_eval:\n",
        "        label = ys_eval[index]\n",
        "        for i in range(tensor.size(dim) // segment_length):\n",
        "            start_idx = i * segment_length\n",
        "            end_idx = start_idx + segment_length\n",
        "\n",
        "            # Extract the segment\n",
        "            segment = tensor[:, start_idx:end_idx]\n",
        "\n",
        "            # Update data arrays\n",
        "            data_X_eval.append(segment.tolist())\n",
        "            data_Y_eval.append(label)\n",
        "\n",
        "        data_X = torch.tensor(data_X)\n",
        "        data_Y = torch.tensor(data_Y)\n",
        "        data_X_eval = torch.tensor(data_X_eval)\n",
        "        data_Y_eval = torch.tensor(data_Y_eval)\n",
        "        \n",
        "        return data_X.double(), data_Y.double(), data_X_eval.double(), data_Y_eval.double()\n",
        "    \n",
        "data_X, data_Y, data_X_eval, data_Y_eval = segmented_dataset_builder(X, Y, X_eval, Y_eval, 150, 1)            "
      ]
    },
    {
      "cell_type": "code",
      "execution_count": 36,
      "metadata": {},
      "outputs": [
        {
          "ename": "NameError",
          "evalue": "name 'data_X' is not defined",
          "output_type": "error",
          "traceback": [
            "\u001b[0;31m---------------------------------------------------------------------------\u001b[0m",
            "\u001b[0;31mNameError\u001b[0m                                 Traceback (most recent call last)",
            "Cell \u001b[0;32mIn[36], line 1\u001b[0m\n\u001b[0;32m----> 1\u001b[0m \u001b[39mprint\u001b[39m(data_X\u001b[39m.\u001b[39mshape)\n\u001b[1;32m      2\u001b[0m \u001b[39mprint\u001b[39m(data_Y\u001b[39m.\u001b[39mshape)\n\u001b[1;32m      3\u001b[0m \u001b[39mprint\u001b[39m(data_X_eval\u001b[39m.\u001b[39mdtype)\n",
            "\u001b[0;31mNameError\u001b[0m: name 'data_X' is not defined"
          ]
        }
      ],
      "source": [
        "print(data_X.shape)\n",
        "print(data_Y.shape)\n",
        "print(data_X_eval.dtype)\n",
        "print(data_Y_eval.dtype)"
      ]
    },
    {
      "cell_type": "code",
      "execution_count": 37,
      "metadata": {},
      "outputs": [
        {
          "ename": "NameError",
          "evalue": "name 'data_X' is not defined",
          "output_type": "error",
          "traceback": [
            "\u001b[0;31m---------------------------------------------------------------------------\u001b[0m",
            "\u001b[0;31mNameError\u001b[0m                                 Traceback (most recent call last)",
            "Cell \u001b[0;32mIn[37], line 14\u001b[0m\n\u001b[1;32m     11\u001b[0m     y \u001b[39m=\u001b[39m torch\u001b[39m.\u001b[39mstack([label[i] \u001b[39mfor\u001b[39;00m i \u001b[39min\u001b[39;00m ix])\n\u001b[1;32m     13\u001b[0m     \u001b[39mreturn\u001b[39;00m x, y\n\u001b[0;32m---> 14\u001b[0m xb, yb \u001b[39m=\u001b[39m get_batch(\u001b[39m'\u001b[39;49m\u001b[39mtrain\u001b[39;49m\u001b[39m'\u001b[39;49m)\n",
            "Cell \u001b[0;32mIn[37], line 3\u001b[0m, in \u001b[0;36mget_batch\u001b[0;34m(split)\u001b[0m\n\u001b[1;32m      1\u001b[0m \u001b[39mdef\u001b[39;00m \u001b[39mget_batch\u001b[39m(split):\n\u001b[1;32m      2\u001b[0m     \u001b[39mif\u001b[39;00m split \u001b[39m==\u001b[39m \u001b[39m\"\u001b[39m\u001b[39mtrain\u001b[39m\u001b[39m\"\u001b[39m:\n\u001b[0;32m----> 3\u001b[0m         data \u001b[39m=\u001b[39m data_X\n\u001b[1;32m      4\u001b[0m         label \u001b[39m=\u001b[39m data_Y\n\u001b[1;32m      5\u001b[0m     \u001b[39melif\u001b[39;00m split \u001b[39m==\u001b[39m \u001b[39m\"\u001b[39m\u001b[39meval\u001b[39m\u001b[39m\"\u001b[39m:\n",
            "\u001b[0;31mNameError\u001b[0m: name 'data_X' is not defined"
          ]
        }
      ],
      "source": [
        "def get_batch(split):\n",
        "    if split == \"train\":\n",
        "        data = data_X\n",
        "        label = data_Y\n",
        "    elif split == \"eval\":\n",
        "        data = data_X_eval\n",
        "        label = data_Y_eval\n",
        "\n",
        "    ix = torch.randint(data.size(0), (B,))\n",
        "    x = torch.stack([data[i] for i in ix])\n",
        "    y = torch.stack([label[i] for i in ix])\n",
        "\n",
        "    return x, y\n",
        "xb, yb = get_batch('train')"
      ]
    },
    {
      "cell_type": "code",
      "execution_count": 38,
      "metadata": {},
      "outputs": [
        {
          "ename": "NameError",
          "evalue": "name 'xb' is not defined",
          "output_type": "error",
          "traceback": [
            "\u001b[0;31m---------------------------------------------------------------------------\u001b[0m",
            "\u001b[0;31mNameError\u001b[0m                                 Traceback (most recent call last)",
            "Cell \u001b[0;32mIn[38], line 1\u001b[0m\n\u001b[0;32m----> 1\u001b[0m \u001b[39mprint\u001b[39m(xb\u001b[39m.\u001b[39mshape, yb\u001b[39m.\u001b[39mshape)\n",
            "\u001b[0;31mNameError\u001b[0m: name 'xb' is not defined"
          ]
        }
      ],
      "source": [
        "print(xb.shape, yb.shape)"
      ]
    },
    {
      "cell_type": "code",
      "execution_count": 39,
      "metadata": {},
      "outputs": [],
      "source": [
        "position_embedding_table = nn.Embedding(L, 1)"
      ]
    },
    {
      "cell_type": "code",
      "execution_count": 40,
      "metadata": {},
      "outputs": [
        {
          "ename": "NameError",
          "evalue": "name 'xb' is not defined",
          "output_type": "error",
          "traceback": [
            "\u001b[0;31m---------------------------------------------------------------------------\u001b[0m",
            "\u001b[0;31mNameError\u001b[0m                                 Traceback (most recent call last)",
            "Cell \u001b[0;32mIn[40], line 1\u001b[0m\n\u001b[0;32m----> 1\u001b[0m a \u001b[39m=\u001b[39m xb \u001b[39m+\u001b[39m position_embedding_table(xb\u001b[39m.\u001b[39mlong())\u001b[39m.\u001b[39msqueeze()\u001b[39m.\u001b[39mdouble()\n\u001b[1;32m      2\u001b[0m \u001b[39mprint\u001b[39m(a\u001b[39m.\u001b[39mshape)\n",
            "\u001b[0;31mNameError\u001b[0m: name 'xb' is not defined"
          ]
        }
      ],
      "source": [
        "a = xb + position_embedding_table(xb.long()).squeeze().double()\n",
        "print(a.shape)"
      ]
    },
    {
      "cell_type": "code",
      "execution_count": 41,
      "metadata": {
        "colab": {
          "base_uri": "https://localhost:8080/"
        },
        "id": "mcmaS41U-UIj",
        "outputId": "98d0a4c9-6a3f-444a-c2b8-4b6d9eed3f01"
      },
      "outputs": [],
      "source": [
        "class CNN1D(nn.Module):\n",
        "    def __init__(self, S=21, L=150, C=120):\n",
        "        super().__init__()\n",
        "        self.S = S  # no. of channels\n",
        "        self.L = L  # no. of sampled points\n",
        "        self.C = C  # depth of convolutional dimension\n",
        "        self.conv_layer_1 = nn.Conv1d(1, C, kernel_size=4)\n",
        "        self.conv_layer_2 = nn.Conv1d(C, C, kernel_size=4)\n",
        "        self.conv_layer_3 = nn.Conv1d(C, C, kernel_size=4)\n",
        "        self.conv_layer_4 = nn.Conv1d(C, C, kernel_size=4)\n",
        "        self.conv_layer_1.double()  # Update the data type of the convolutional layer weights to torch.float64\n",
        "        self.conv_layer_2.double()\n",
        "        self.conv_layer_3.double()\n",
        "        self.conv_layer_4.double()\n",
        "\n",
        "    def forward(self, x):\n",
        "        outputs = []\n",
        "        for i in range(self.S):\n",
        "            input_row = x[:, i:i+1, :]  # (batch_size=1, channels=1, length=num_columns)\n",
        "            output_tensor = self.conv_layer_1(input_row)\n",
        "            output_tensor = self.conv_layer_2(output_tensor)\n",
        "            output_tensor = self.conv_layer_3(output_tensor)\n",
        "            output_tensor = self.conv_layer_4(output_tensor)\n",
        "            outputs.append(output_tensor.unsqueeze(1))\n",
        "\n",
        "        output_tensor = torch.cat(outputs, dim=1)\n",
        "        return output_tensor\n",
        "\n",
        "# # Get the number of rows and columns\n",
        "# x = torch.tensor(detrended_eeg_data, dtype=torch.float64)\n",
        "# num_rows, num_columns = detrended_eeg_data.shape\n",
        "\n",
        "# # Define the Conv1D layer\n",
        "# conv1d_layer = CNN1D(S=21, L=L, C=C)\n",
        "# output = conv1d_layer(xb)\n",
        "\n",
        "# # Print output shape\n",
        "# print(output.shape)"
      ]
    },
    {
      "cell_type": "code",
      "execution_count": 43,
      "metadata": {},
      "outputs": [
        {
          "name": "stdout",
          "output_type": "stream",
          "text": [
            "cuda:0\n"
          ]
        }
      ],
      "source": [
        "output = pad_tensor(torch.rand(3, 4).to('cuda'), 1, L)\n",
        "print(output.device)"
      ]
    },
    {
      "cell_type": "code",
      "execution_count": null,
      "metadata": {},
      "outputs": [],
      "source": []
    },
    {
      "cell_type": "code",
      "execution_count": 44,
      "metadata": {
        "id": "kceSnJfD-UIo"
      },
      "outputs": [],
      "source": [
        "class RegionalHead(nn.Module):\n",
        "    \"\"\" one head of self-attention \"\"\"\n",
        "\n",
        "    def __init__(self, head_size, C, L):\n",
        "        # Parameters are head_size(d), no. of tokens(C), and input embedding size(L)\n",
        "        super().__init__()\n",
        "        self.block_size = C\n",
        "        self.n_embed = L\n",
        "        self.head_size = head_size \n",
        "        self.key = nn.Linear(self.n_embed, self.head_size, bias=False).double()\n",
        "        self.query = nn.Linear(self.n_embed, self.head_size, bias=False).double()\n",
        "        self.value = nn.Linear(self.n_embed, self.head_size, bias=False).double()\n",
        "        self.register_buffer('tril', torch.tril(torch.ones(self.block_size, self.block_size)))\n",
        "        self.dropout = nn.Dropout(0.01)\n",
        "\n",
        "    def forward(self, x):\n",
        "        B, S_, C_, L_ = x.shape\n",
        "        x = x.view(S_, B, C_, L_)  # (B, T, C, L)\n",
        "        matrices = []\n",
        "\n",
        "        for spatial_mat in x:\n",
        "            inp = spatial_mat\n",
        "            # Below this, T is not the original T, but the head size\n",
        "            k = self.key(inp)   # (B, C, T)\n",
        "            q = self.query(inp) # (B, C, T)\n",
        "            # compute attention scores (\"affinities\")\n",
        "            wei = q @ k.transpose(-2,-1) * self.head_size**-0.5 # (B, C, T) @ (B, T, C) -> (B, C, C)\n",
        "            wei = F.softmax(wei, dim=-1) # (B, C, C)\n",
        "            wei = self.dropout(wei)\n",
        "            # perform the weighted aggregation of the values\n",
        "            v = self.value(inp) # (B, C, T)\n",
        "            out = wei @ v # (B, C, C) @ (B, C, T) -> (B, C, T)\n",
        "            matrices.append(out.tolist())\n",
        "\n",
        "        matrices = torch.tensor(matrices)\n",
        "        out = matrices.view(B, S_, C_, self.head_size)\n",
        "        return out.double()"
      ]
    },
    {
      "cell_type": "code",
      "execution_count": 45,
      "metadata": {
        "colab": {
          "base_uri": "https://localhost:8080/"
        },
        "id": "qYHuPgU_-UIp",
        "outputId": "043469fe-712a-49e1-f635-bc87b8fd3d4f"
      },
      "outputs": [
        {
          "ename": "AttributeError",
          "evalue": "'builtin_function_or_method' object has no attribute 'shape'",
          "output_type": "error",
          "traceback": [
            "\u001b[0;31m---------------------------------------------------------------------------\u001b[0m",
            "\u001b[0;31mAttributeError\u001b[0m                            Traceback (most recent call last)",
            "Cell \u001b[0;32mIn[45], line 2\u001b[0m\n\u001b[1;32m      1\u001b[0m rh \u001b[39m=\u001b[39m RegionalHead(head_size\u001b[39m=\u001b[39mL\u001b[39m/\u001b[39m\u001b[39m/\u001b[39m\u001b[39m5\u001b[39m, C\u001b[39m=\u001b[39mC, L\u001b[39m=\u001b[39mL)\n\u001b[0;32m----> 2\u001b[0m rh_output \u001b[39m=\u001b[39m rh(torch\u001b[39m.\u001b[39;49mrand)  \u001b[39m# unsqueeze adds an extra batch dimension\u001b[39;00m\n\u001b[1;32m      3\u001b[0m \u001b[39mprint\u001b[39m(rh_output\u001b[39m.\u001b[39mshape)\n",
            "File \u001b[0;32m~/.local/lib/python3.10/site-packages/torch/nn/modules/module.py:1501\u001b[0m, in \u001b[0;36mModule._call_impl\u001b[0;34m(self, *args, **kwargs)\u001b[0m\n\u001b[1;32m   1496\u001b[0m \u001b[39m# If we don't have any hooks, we want to skip the rest of the logic in\u001b[39;00m\n\u001b[1;32m   1497\u001b[0m \u001b[39m# this function, and just call forward.\u001b[39;00m\n\u001b[1;32m   1498\u001b[0m \u001b[39mif\u001b[39;00m \u001b[39mnot\u001b[39;00m (\u001b[39mself\u001b[39m\u001b[39m.\u001b[39m_backward_hooks \u001b[39mor\u001b[39;00m \u001b[39mself\u001b[39m\u001b[39m.\u001b[39m_backward_pre_hooks \u001b[39mor\u001b[39;00m \u001b[39mself\u001b[39m\u001b[39m.\u001b[39m_forward_hooks \u001b[39mor\u001b[39;00m \u001b[39mself\u001b[39m\u001b[39m.\u001b[39m_forward_pre_hooks\n\u001b[1;32m   1499\u001b[0m         \u001b[39mor\u001b[39;00m _global_backward_pre_hooks \u001b[39mor\u001b[39;00m _global_backward_hooks\n\u001b[1;32m   1500\u001b[0m         \u001b[39mor\u001b[39;00m _global_forward_hooks \u001b[39mor\u001b[39;00m _global_forward_pre_hooks):\n\u001b[0;32m-> 1501\u001b[0m     \u001b[39mreturn\u001b[39;00m forward_call(\u001b[39m*\u001b[39;49margs, \u001b[39m*\u001b[39;49m\u001b[39m*\u001b[39;49mkwargs)\n\u001b[1;32m   1502\u001b[0m \u001b[39m# Do not call functions when jit is used\u001b[39;00m\n\u001b[1;32m   1503\u001b[0m full_backward_hooks, non_full_backward_hooks \u001b[39m=\u001b[39m [], []\n",
            "Cell \u001b[0;32mIn[44], line 17\u001b[0m, in \u001b[0;36mRegionalHead.forward\u001b[0;34m(self, x)\u001b[0m\n\u001b[1;32m     16\u001b[0m \u001b[39mdef\u001b[39;00m \u001b[39mforward\u001b[39m(\u001b[39mself\u001b[39m, x):\n\u001b[0;32m---> 17\u001b[0m     B, S_, C_, L_ \u001b[39m=\u001b[39m x\u001b[39m.\u001b[39;49mshape\n\u001b[1;32m     18\u001b[0m     x \u001b[39m=\u001b[39m x\u001b[39m.\u001b[39mview(S_, B, C_, L_)  \u001b[39m# (B, T, C, L)\u001b[39;00m\n\u001b[1;32m     19\u001b[0m     matrices \u001b[39m=\u001b[39m []\n",
            "\u001b[0;31mAttributeError\u001b[0m: 'builtin_function_or_method' object has no attribute 'shape'"
          ]
        }
      ],
      "source": [
        "rh = RegionalHead(head_size=L//5, C=C, L=L)\n",
        "rh_output = rh(torch.rand)  # unsqueeze adds an extra batch dimension\n",
        "print(rh_output.shape)"
      ]
    },
    {
      "cell_type": "code",
      "execution_count": 46,
      "metadata": {
        "id": "OjLdm8VI-UIr"
      },
      "outputs": [],
      "source": [
        "class RegionalMultiHeadAttention(nn.Module):\n",
        "    \"\"\" multiple heads of self-attention in parallel \"\"\"\n",
        "\n",
        "    def __init__(self, num_heads, head_size, C, L):\n",
        "        super().__init__()\n",
        "        self.heads = nn.ModuleList([RegionalHead(head_size, C, L) for _ in range(num_heads)])\n",
        "        self.proj = nn.Linear(L, L).double()\n",
        "        self.dropout = nn.Dropout(0.001)\n",
        "\n",
        "    def forward(self, x):\n",
        "        out = torch.cat([h(x) for h in self.heads], dim=-1).to(device)\n",
        "        # out = self.dropout(self.proj(out)) # Instead of this line, we proceed as below:\n",
        "\n",
        "        # Implementing projection layer after the multihead attention module\n",
        "        b, s, c, l = out.shape\n",
        "        out = out.view(s, b, c, l)\n",
        "\n",
        "        matrices = []\n",
        "        for inp in out:\n",
        "            matrix = self.dropout(self.proj(inp))\n",
        "            matrices.append(matrix.tolist())\n",
        "\n",
        "        matrices = torch.tensor(matrices)\n",
        "        matrices = matrices.view(b, s, c, l).to('cuda')\n",
        "\n",
        "        return matrices.double()"
      ]
    },
    {
      "cell_type": "code",
      "execution_count": 47,
      "metadata": {
        "colab": {
          "base_uri": "https://localhost:8080/"
        },
        "id": "o9naGsKm-UIr",
        "outputId": "d6ab53fe-4c97-42f6-b01b-e51b6e1010e5"
      },
      "outputs": [
        {
          "data": {
            "text/plain": [
              "device(type='cuda', index=0)"
            ]
          },
          "execution_count": 47,
          "metadata": {},
          "output_type": "execute_result"
        }
      ],
      "source": [
        "mrh = RegionalMultiHeadAttention(5, head_size=L//5, C=C, L=L).to('cuda')\n",
        "mrh_output = mrh(torch.rand(B, S, C, L).double().to('cuda'))\n",
        "mrh_output.device\n"
      ]
    },
    {
      "cell_type": "code",
      "execution_count": 48,
      "metadata": {
        "id": "a6xUXKnt-UIs"
      },
      "outputs": [],
      "source": [
        "class FeedFowardRegional(nn.Module):\n",
        "    \"\"\" a simple linear layer followed by a non-linearity \"\"\"\n",
        "\n",
        "    def __init__(self, L): \n",
        "        super().__init__()\n",
        "        self.net = nn.Sequential(\n",
        "            nn.Linear(L, 4*L), \n",
        "            nn.ReLU(),\n",
        "            nn.Linear(4*L, L),\n",
        "            nn.Dropout(0.001),\n",
        "        ).double()\n",
        "\n",
        "    def forward(self, x):\n",
        "        b, s, c, l = x.shape\n",
        "        x = x.view(s, b, c, l)\n",
        "\n",
        "        matrices = []\n",
        "        for inp in x:\n",
        "            matrix = self.net(inp)\n",
        "            matrices.append(matrix.tolist())\n",
        "\n",
        "        matrices = torch.tensor(matrices).to(device)\n",
        "        # s_, b_, c_, l_ = matrices.shape\n",
        "        matrices = matrices.view(b, s, c, l)\n",
        "\n",
        "\n",
        "        return matrices.double()"
      ]
    },
    {
      "cell_type": "code",
      "execution_count": 49,
      "metadata": {
        "colab": {
          "base_uri": "https://localhost:8080/"
        },
        "id": "UCzKcU4n-UIs",
        "outputId": "0b698cc5-18e9-4bba-ac83-0ca36da21364"
      },
      "outputs": [
        {
          "name": "stdout",
          "output_type": "stream",
          "text": [
            "torch.Size([3, 21, 120, 150])\n"
          ]
        }
      ],
      "source": [
        "ffr = FeedFowardRegional(L).to('cuda')\n",
        "ffr_output = ffr(torch.rand(B, S, C, L).double().to('cuda'))\n",
        "print(ffr_output.shape)"
      ]
    },
    {
      "cell_type": "code",
      "execution_count": 50,
      "metadata": {
        "id": "lOIGpr6x-UIt"
      },
      "outputs": [],
      "source": [
        "class BlockRegional(nn.Module):\n",
        "    \"\"\" Transformer block: communication followed by computation \"\"\"\n",
        "\n",
        "    def __init__(self, L, n_head):\n",
        "        # n_embd: embedding dimension, n_head: the number of heads we'd like\n",
        "        super().__init__()\n",
        "        D = L // n_head\n",
        "        self.sa = RegionalMultiHeadAttention(n_head, D, C, L)\n",
        "        self.ffwd = FeedFowardRegional(L)\n",
        "        self.ln1 = nn.LayerNorm(L).double()\n",
        "        self.ln2 = nn.LayerNorm(L).double()\n",
        "\n",
        "    def forward(self, x):\n",
        "        x = x + self.sa(self.ln1(x))\n",
        "        x = x + self.ffwd(self.ln2(x))\n",
        "        return x"
      ]
    },
    {
      "cell_type": "code",
      "execution_count": 51,
      "metadata": {},
      "outputs": [
        {
          "name": "stdout",
          "output_type": "stream",
          "text": [
            "torch.Size([3, 21, 120, 150])\n",
            "cuda:0\n"
          ]
        }
      ],
      "source": [
        "br = BlockRegional(L, 5).to('cuda')\n",
        "br_output = br(torch.rand(B, S, C, L).double().to('cuda'))\n",
        "print(br_output.shape)\n",
        "print(br_output.device)"
      ]
    },
    {
      "cell_type": "code",
      "execution_count": 52,
      "metadata": {},
      "outputs": [
        {
          "name": "stdout",
          "output_type": "stream",
          "text": [
            "torch.Size([3, 120, 21, 150])\n",
            "cuda:0\n"
          ]
        }
      ],
      "source": [
        "def RegionalToSynchronousShapeShifter(tensor):\n",
        "    b, s, c, l = tensor.shape\n",
        "    return tensor.view(b, c, s, l)\n",
        "\n",
        "sync_input = RegionalToSynchronousShapeShifter(br_output)\n",
        "print(sync_input.shape)\n",
        "print(sync_input.device)"
      ]
    },
    {
      "cell_type": "markdown",
      "metadata": {},
      "source": [
        "Output of Regional block: [batch, S, C, L]\n",
        "\n",
        "\n",
        "Input expected by Synchronous Block: [batch, C, S, L]"
      ]
    },
    {
      "cell_type": "code",
      "execution_count": 53,
      "metadata": {},
      "outputs": [],
      "source": [
        "class SynchronousHead(nn.Module):\n",
        "    \"\"\" one head of self-attention \"\"\"\n",
        "\n",
        "    def __init__(self, head_size, S, L):\n",
        "        # Parameters are head_size(d), no. of tokens(C), and input embedding size(L)\n",
        "        super().__init__()\n",
        "        self.block_size = S\n",
        "        self.n_embed = L\n",
        "        self.head_size = head_size \n",
        "        self.key = nn.Linear(self.n_embed, self.head_size, bias=False).double()\n",
        "        self.query = nn.Linear(self.n_embed, self.head_size, bias=False).double()\n",
        "        self.value = nn.Linear(self.n_embed, self.head_size, bias=False).double()\n",
        "        self.register_buffer('tril', torch.tril(torch.ones(self.block_size, self.block_size)))\n",
        "        self.dropout = nn.Dropout(0.01)\n",
        "\n",
        "    def forward(self, x):\n",
        "        b, c, s, l= x.shape\n",
        "        x = x.view(c, b, s, l)  # (C, B, S, L)\n",
        "        matrices = []\n",
        "\n",
        "        for spatial_mat in x:\n",
        "            inp = spatial_mat\n",
        "            k = self.key(inp)   # (B, S, D)\n",
        "            q = self.query(inp) # (B, S, D)\n",
        "            # compute attention scores (\"affinities\")\n",
        "            wei = q @ k.transpose(-2,-1) * self.head_size**-0.5 # (B, S, D) @ (B, D, S) -> (B, S, S)\n",
        "            wei = F.softmax(wei, dim=-1) # (B, S, S)\n",
        "            wei = self.dropout(wei)\n",
        "            # perform the weighted aggregation of the values\n",
        "            v = self.value(inp) # (B, S, D)\n",
        "            out = wei @ v # (B, S, S) @ (B, S, D) -> (B, S, D)\n",
        "            matrices.append(out.tolist())\n",
        "\n",
        "        matrices = torch.tensor(matrices)\n",
        "        out = matrices.view(b, c, s, self.head_size)\n",
        "        return out.double().to(device)"
      ]
    },
    {
      "cell_type": "code",
      "execution_count": 54,
      "metadata": {},
      "outputs": [
        {
          "name": "stdout",
          "output_type": "stream",
          "text": [
            "torch.Size([3, 120, 21, 30])\n",
            "cuda:0\n"
          ]
        }
      ],
      "source": [
        "sh = SynchronousHead(head_size=L//5, S=S, L=L).to('cuda')\n",
        "sh_output = sh(sync_input) # unsqueeze adds an extra batch dimension\n",
        "print(sh_output.shape)\n",
        "print(sh_output.device)"
      ]
    },
    {
      "cell_type": "code",
      "execution_count": 55,
      "metadata": {},
      "outputs": [],
      "source": [
        "class SynchronousMultiHeadAttention(nn.Module):\n",
        "    \"\"\" multiple heads of self-attention in parallel \"\"\"\n",
        "\n",
        "    def __init__(self, num_heads, head_size, S, L):\n",
        "        super().__init__()\n",
        "        self.heads = nn.ModuleList([SynchronousHead(head_size, S, L) for _ in range(num_heads)])\n",
        "        self.proj = nn.Linear(L, L).double()\n",
        "        self.dropout = nn.Dropout(0.001)\n",
        "\n",
        "    def forward(self, x):\n",
        "        out = torch.cat([h(x) for h in self.heads], dim=-1).to('cuda')\n",
        "        # out = self.dropout(self.proj(out)) # Instead of this line, we proceed as below:\n",
        "\n",
        "        # Implementing projection layer after the multihead attention module\n",
        "        b, c, s, l = out.shape\n",
        "        out = out.view(c, b, s, l)\n",
        "\n",
        "        matrices = []\n",
        "        for inp in out:\n",
        "            matrix = self.dropout(self.proj(inp))  # inp is (B, S, L)\n",
        "            matrices.append(matrix.tolist())\n",
        "\n",
        "        matrices = torch.tensor(matrices)\n",
        "        matrices = matrices.view(b, c, s, l)\n",
        "\n",
        "        return matrices.double().to(device)"
      ]
    },
    {
      "cell_type": "code",
      "execution_count": 56,
      "metadata": {},
      "outputs": [
        {
          "name": "stdout",
          "output_type": "stream",
          "text": [
            "torch.Size([3, 120, 21, 150])\n",
            "cuda:0\n"
          ]
        }
      ],
      "source": [
        "mhs = SynchronousMultiHeadAttention(5, head_size=L//5, S=S, L=L).to('cuda')\n",
        "mhs_output = mhs(sync_input)\n",
        "print(mhs_output.shape)\n",
        "print(mhs_output.device)"
      ]
    },
    {
      "cell_type": "code",
      "execution_count": 57,
      "metadata": {},
      "outputs": [],
      "source": [
        "class FeedFowardSync(nn.Module):\n",
        "    \"\"\" a simple linear layer followed by a non-linearity \"\"\"\n",
        "\n",
        "    def __init__(self, L): \n",
        "        super().__init__()\n",
        "        self.net = nn.Sequential(\n",
        "            nn.Linear(L, 4*L), \n",
        "            nn.ReLU(),\n",
        "            nn.Linear(4*L, L),\n",
        "            nn.Dropout(0.001),\n",
        "        ).double()\n",
        "\n",
        "    def forward(self, x):\n",
        "        b, c, s, l = x.shape\n",
        "        x = x.view(c, b, s, l)\n",
        "\n",
        "        matrices = []\n",
        "        for inp in x:\n",
        "            matrix = self.net(inp)\n",
        "            matrices.append(matrix.tolist())\n",
        "\n",
        "        matrices = torch.tensor(matrices)\n",
        "        # s_, b_, c_, l_ = matrices.shape\n",
        "        matrices = matrices.view(b, c, s, l)\n",
        "\n",
        "\n",
        "        return matrices.double().to(device)"
      ]
    },
    {
      "cell_type": "code",
      "execution_count": 58,
      "metadata": {},
      "outputs": [
        {
          "name": "stdout",
          "output_type": "stream",
          "text": [
            "torch.Size([3, 120, 21, 150])\n",
            "cuda:0\n"
          ]
        }
      ],
      "source": [
        "ffs = FeedFowardSync(L).to(device)\n",
        "ffs_output = ffs(mhs_output)\n",
        "print(ffs_output.shape)\n",
        "print(ffs_output.device)"
      ]
    },
    {
      "cell_type": "code",
      "execution_count": 59,
      "metadata": {},
      "outputs": [],
      "source": [
        "class BlockSync(nn.Module):\n",
        "    \"\"\" Transformer block: communication followed by computation \"\"\"\n",
        "\n",
        "    def __init__(self, L, n_head):\n",
        "        # n_embd: embedding dimension, n_head: the number of heads we'd like\n",
        "        super().__init__()\n",
        "        D = L // n_head\n",
        "        self.sa = SynchronousMultiHeadAttention(n_head, D, S, L)\n",
        "        self.ffwd = FeedFowardSync(L)\n",
        "        self.ln1 = nn.LayerNorm(L).double()\n",
        "        self.ln2 = nn.LayerNorm(L).double()\n",
        "\n",
        "    def forward(self, x):\n",
        "        x = x + self.sa(self.ln1(x))\n",
        "        x = x + self.ffwd(self.ln2(x))\n",
        "        return x"
      ]
    },
    {
      "cell_type": "code",
      "execution_count": 60,
      "metadata": {},
      "outputs": [
        {
          "name": "stdout",
          "output_type": "stream",
          "text": [
            "torch.Size([3, 120, 21, 150])\n",
            "cuda:0\n"
          ]
        }
      ],
      "source": [
        "bs = BlockSync(L, 5).to('cuda')\n",
        "bs_output = bs(sync_input)\n",
        "print(bs_output.shape)\n",
        "print(bs_output.device)"
      ]
    },
    {
      "cell_type": "markdown",
      "metadata": {},
      "source": [
        "## Temporal Encoder"
      ]
    },
    {
      "cell_type": "code",
      "execution_count": 61,
      "metadata": {},
      "outputs": [],
      "source": [
        "class TemporalTransformer(nn.Module):\n",
        "    def __init__(self, S, C, L, M):\n",
        "        super(TemporalTransformer, self).__init__()\n",
        "        self.C = C  # Number of channels\n",
        "        self.L = L  # Original temporal dimensionality\n",
        "        self.S = S  # Spatial dimension\n",
        "        self.M = M  # Compressed dimensionality\n",
        "        \n",
        "        self.patch_size = self.C * self.S  # Patch size\n",
        "        self.M_linear = nn.Linear(self.patch_size, self.patch_size).double()  # Learnable matrix M\n",
        "        \n",
        "    def forward(self, z5):\n",
        "        # z5: (B, C, S, D) input tensor\n",
        "        # Recuce the temporal dimension to M\n",
        "        z5_averaged = self.reduce_temporal_dimension(z5, self.M) # (B, C, S, M)\n",
        "        # Reshape the tensor to B, M, S*C\n",
        "        z5_reshaped = z5_averaged.reshape(z5.shape[0], -1, self.S*self.C)  # B, M, S*C\n",
        "        # Get latent vectors out of the current tensor\n",
        "        latent = self.M_linear(z5_reshaped) # (B, M, S*C)\n",
        "        return latent\n",
        "    \n",
        "    def reduce_temporal_dimension(self, input_tensor, M):\n",
        "        # input_tensor: (B, C, S, L) input tensor\n",
        "        # M: Compressed dimensionality\n",
        "\n",
        "        # Reshape the tensor to 3D\n",
        "        reshaped_tensor = input_tensor.view(-1, input_tensor.size(2), input_tensor.size(3))  # Shape: (B*C, S, L)\n",
        "\n",
        "        # Calculate the mean along the last dimension (L)\n",
        "        averaged_tensor = torch.mean(reshaped_tensor, dim=-1)  # Shape: (B*C, S)\n",
        "\n",
        "        # Resize the tensor to have the desired compressed dimensionality (M)\n",
        "        resized_tensor = torch.nn.functional.interpolate(averaged_tensor.unsqueeze(-1), size=M, mode='linear', align_corners=False)\n",
        "        resized_tensor = resized_tensor.squeeze(-1)\n",
        "\n",
        "        # Reshape back to 4D\n",
        "        output_tensor = resized_tensor.view(input_tensor.size(0), input_tensor.size(1), input_tensor.size(2), M)  # Shape: (B, C, S, M)\n",
        "\n",
        "        return output_tensor\n"
      ]
    },
    {
      "cell_type": "code",
      "execution_count": 62,
      "metadata": {},
      "outputs": [
        {
          "name": "stdout",
          "output_type": "stream",
          "text": [
            "Input: torch.Size([3, 120, 21, 150])\n",
            "Output: torch.Size([3, 30, 2520])\n",
            "Output device: cuda:0\n"
          ]
        }
      ],
      "source": [
        "temporal = TemporalTransformer(S, C, L, M=L//5).to(device)  # M is 15 here\n",
        "print(f'Input: {bs_output.shape}')\n",
        "temporal_without_attention_output = temporal(bs_output)\n",
        "print(f'Output: {temporal_without_attention_output.shape}')\n",
        "print(f'Output device: {temporal_without_attention_output.device}')\n"
      ]
    },
    {
      "cell_type": "code",
      "execution_count": 63,
      "metadata": {},
      "outputs": [],
      "source": [
        "class HeadTemporal(nn.Module):\n",
        "    \"\"\" one head of self-attention \"\"\"\n",
        "\n",
        "    def __init__(self, head_size, n_embed):\n",
        "        super().__init__()\n",
        "        self.key = nn.Linear(n_embed, head_size, bias=False).double()\n",
        "        self.query = nn.Linear(n_embed, head_size, bias=False).double()\n",
        "        self.value = nn.Linear(n_embed, head_size, bias=False).double()\n",
        "\n",
        "        self.dropout = nn.Dropout(0.01)\n",
        "\n",
        "    def forward(self, x):\n",
        "        B,T,C = x.shape\n",
        "        k = self.key(x)   # (B,T,C)\n",
        "        q = self.query(x) # (B,T,C)\n",
        "        # compute attention scores (\"affinities\")\n",
        "        wei = q @ k.transpose(-2,-1) * C**-0.5 # (B, T, C) @ (B, C, T) -> (B, T, T)\n",
        "        wei = F.softmax(wei, dim=-1) # (B, T, T)\n",
        "        wei = self.dropout(wei)\n",
        "        # perform the weighted aggregation of the values\n",
        "        v = self.value(x) # (B,T,C)\n",
        "        out = wei @ v # (B, T, T) @ (B, T, C) -> (B, T, C)\n",
        "        return out\n",
        "    \n",
        "class MultiHeadAttentionTemporal(nn.Module):\n",
        "    \"\"\" multiple heads of self-attention in parallel \"\"\"\n",
        "\n",
        "    def __init__(self, num_heads, head_size, n_embed):\n",
        "        super().__init__()\n",
        "        self.n_embed = n_embed\n",
        "        self.heads = nn.ModuleList([HeadTemporal(head_size, self.n_embed) for _ in range(num_heads)])\n",
        "        self.proj = nn.Linear(self.n_embed, self.n_embed).double()\n",
        "        self.dropout = nn.Dropout(0.01)\n",
        "\n",
        "    def forward(self, x):\n",
        "        out = torch.cat([h(x) for h in self.heads], dim=-1)\n",
        "        out = self.dropout(self.proj(out))\n",
        "        return out\n",
        "\n",
        "class FeedFowardTemporal(nn.Module):\n",
        "    \"\"\" a simple linear layer followed by a non-linearity \"\"\"\n",
        "\n",
        "    def __init__(self, n_embd):\n",
        "        super().__init__()\n",
        "        self.net = nn.Sequential(\n",
        "            nn.Linear(n_embd, 4 * n_embd),\n",
        "            nn.ReLU(),\n",
        "            nn.Linear(4 * n_embd, n_embd),\n",
        "            nn.Dropout(0.001),\n",
        "        ).double()\n",
        "\n",
        "    def forward(self, x):\n",
        "        return self.net(x)\n",
        "\n",
        "class TemporalBlock(nn.Module):\n",
        "    \"\"\" Transformer block: communication followed by computation \"\"\"\n",
        "\n",
        "    def __init__(self, n_embd, n_head):\n",
        "        # n_embd: embedding dimension, n_head: the number of heads we'd like\n",
        "        super().__init__()\n",
        "        head_size = n_embd // n_head\n",
        "        self.sa = MultiHeadAttentionTemporal(n_head, head_size, n_embd)\n",
        "        self.ffwd = FeedFowardTemporal(n_embd)\n",
        "        self.ln1 = nn.LayerNorm(n_embd).double()\n",
        "        self.ln2 = nn.LayerNorm(n_embd).double()\n",
        "\n",
        "    def forward(self, x):\n",
        "        x = x + self.sa(self.ln1(x))\n",
        "        x = x + self.ffwd(self.ln2(x))\n",
        "        return x"
      ]
    },
    {
      "cell_type": "code",
      "execution_count": 64,
      "metadata": {},
      "outputs": [
        {
          "data": {
            "text/plain": [
              "6"
            ]
          },
          "execution_count": 64,
          "metadata": {},
          "output_type": "execute_result"
        }
      ],
      "source": [
        "def product_of_2_least_common_factors(num):\n",
        "    factors = []\n",
        "    \n",
        "    # Find all factors of the number\n",
        "    for i in range(1, num + 1):\n",
        "        if num % i == 0:\n",
        "            factors.append(i)\n",
        "        if len(factors) == 3:\n",
        "            break\n",
        "    \n",
        "    ans = 1\n",
        "    for factor in factors:\n",
        "        ans = ans * factor\n",
        "    \n",
        "    return ans\n",
        "\n",
        "product_of_2_least_common_factors(2520)"
      ]
    },
    {
      "cell_type": "code",
      "execution_count": 65,
      "metadata": {},
      "outputs": [
        {
          "name": "stdout",
          "output_type": "stream",
          "text": [
            "6\n"
          ]
        }
      ],
      "source": [
        "# Till now the shape of tensor is: B, N, D\n",
        "# We don't want d to decrease, so we need to specify num_of_heads, and head_size carefully\n",
        "# The product_of_2_least_common_factors function allows us to achieve this.\n",
        "# It gives us a small number which can be used as the parameter: number of heads, as it's ouput divides d with no remainder\n",
        "no_of_heads_for_temoral_block = product_of_2_least_common_factors(S*C)\n",
        "print(no_of_heads_for_temoral_block)\n",
        "bt = TemporalBlock(S*C, no_of_heads_for_temoral_block).to(device)"
      ]
    },
    {
      "cell_type": "code",
      "execution_count": 66,
      "metadata": {},
      "outputs": [
        {
          "name": "stdout",
          "output_type": "stream",
          "text": [
            "Input shape: torch.Size([3, 30, 2520])\n",
            "Output shape: torch.Size([3, 30, 2520])\n",
            "Output shape: cuda:0\n"
          ]
        }
      ],
      "source": [
        "print(f'Input shape: {temporal_without_attention_output.shape}')\n",
        "eeg_encoder_output = bt(temporal_without_attention_output)\n",
        "print(f'Output shape: {eeg_encoder_output.shape}')\n",
        "print(f'Output shape: {eeg_encoder_output.device}')"
      ]
    },
    {
      "cell_type": "code",
      "execution_count": 67,
      "metadata": {},
      "outputs": [],
      "source": [
        "class Decoder(nn.Module):\n",
        "    def __init__(self, B, M, S, C):\n",
        "        super(Decoder, self).__init__()\n",
        "        self.B = B\n",
        "        self.M = M\n",
        "        self.S = S\n",
        "        self.C = C\n",
        "\n",
        "        # Define the layers\n",
        "        # Define the 1D convolutional filter - captures info along the convolutional dimension\n",
        "        self.l1_filter = nn.Conv1d(M*S, M*S, kernel_size=C).double()\n",
        "        # Define the l2 filter - captures info along spatial dimension\n",
        "        self.l2_filter = nn.Conv1d(M, M, kernel_size=S).double()\n",
        "        # PREDICTION NEURAL NETWORK\n",
        "        self.layer0 = nn.Linear(M, 256).double()\n",
        "        self.layer1 = nn.Linear(256, 64).double()\n",
        "        self.layer2 = nn.Linear(64, 1).double()\n",
        "        self.leaky_relu = nn.LeakyReLU().double()\n",
        "        self.sigmoid = nn.Sigmoid().double()\n",
        "\n",
        "    def forward(self, x):\n",
        "        x = self.encoder_to_decoder_shape_transition(x)\n",
        "\n",
        "        # Reshape from (B, M, S, C) to (B, M*S, C)\n",
        "        x = x.view(self.B, self.M*self.S, self.C)\n",
        "        # Apply the convolutional filter\n",
        "        x = self.l1_filter(x)  # reduces C dimension to 1\n",
        "        # Reshape the output tensor back to the desired shape (B, M, S)\n",
        "        x = x.view(self.B, self.M, self.S)\n",
        "        # apply\n",
        "        x = self.l2_filter(x)  # this filter reduces s dimension to 1\n",
        "        # Reshape\n",
        "        b, m, s =  x.shape \n",
        "        x = x.view(b, m*s)  # (B, M)\n",
        "    \n",
        "        # Pass the input through the layers with activations\n",
        "        x = self.layer0(x)\n",
        "        x = self.layer1(x)\n",
        "        x = self.leaky_relu(x)\n",
        "        x = self.layer2(x)\n",
        "        x = self.leaky_relu(x)\n",
        "        x = self.sigmoid(x)\n",
        "        return x\n",
        "\n",
        "    def encoder_to_decoder_shape_transition(self, matrix):\n",
        "        '''this function reshapes the oupput of encoder so that it is\n",
        "        suitable for the decoder'''\n",
        "        matrix = matrix.view(B, M, S, C)\n",
        "        return matrix"
      ]
    },
    {
      "cell_type": "code",
      "execution_count": 68,
      "metadata": {},
      "outputs": [
        {
          "name": "stdout",
          "output_type": "stream",
          "text": [
            "tensor([[0.5082],\n",
            "        [0.5078],\n",
            "        [0.5085]], device='cuda:0', dtype=torch.float64,\n",
            "       grad_fn=<SigmoidBackward0>)\n"
          ]
        }
      ],
      "source": [
        "decoder = Decoder(B, M, S, C).to(device)\n",
        "prediction = decoder(eeg_encoder_output)\n",
        "print(prediction)"
      ]
    },
    {
      "cell_type": "markdown",
      "metadata": {},
      "source": [
        "## EEGFormer"
      ]
    },
    {
      "cell_type": "code",
      "execution_count": 69,
      "metadata": {},
      "outputs": [],
      "source": [
        "class EEGFormer(nn.Module):\n",
        "    def __init__(self, B, S, C, L, M):\n",
        "        super().__init__()\n",
        "        self.B = B\n",
        "        self.S = S\n",
        "        self.C = C\n",
        "        self.L = L\n",
        "        self.M = M\n",
        "        self.position_embedding_table = nn.Embedding(L, 1).to(device)\n",
        "        self.conv1d_layer = CNN1D(S=S, L=L, C=C).to(device)\n",
        "        self.br = BlockRegional(L, num_heads).to(device)\n",
        "        self.bs = BlockSync(L, num_heads).to(device)\n",
        "        self.temporal = TemporalTransformer(S, C, L, M=M) .to(device)\n",
        "        self.bt = TemporalBlock(S*C, n_head=product_of_2_least_common_factors(S*C)).to(device)  # nembd, nhead\n",
        "        self.decoder = Decoder(B, M, S, C).to(device)\n",
        "        self.position_embedding_table = nn.Embedding(L, 1).to(device)\n",
        "\n",
        "    def forward(self, x, targets=None):\n",
        "        # x is eeg segment\n",
        "        x = x + self.position_embedding_table(x.long()).squeeze().double()\n",
        "        x = self.conv1d_layer(x)\n",
        "        x = pad_tensor(x, dim=3, length=L)\n",
        "        x = self.br(x)\n",
        "        x = RegionalToSynchronousShapeShifter(x)\n",
        "        x = self.bs(x)\n",
        "        x = self.temporal(x)\n",
        "        x = self.bt(x)\n",
        "        x = self.decoder(x)\n",
        "\n",
        "        if targets == None:\n",
        "            loss = None\n",
        "        else:\n",
        "            B, cols = x.shape\n",
        "            probabilities = x.view(B*cols,)\n",
        "            loss = F.binary_cross_entropy(probabilities, targets)   \n",
        "                     \n",
        "        return x, loss"
      ]
    },
    {
      "cell_type": "code",
      "execution_count": null,
      "metadata": {},
      "outputs": [],
      "source": []
    },
    {
      "cell_type": "markdown",
      "metadata": {},
      "source": [
        "## Training Loop"
      ]
    },
    {
      "cell_type": "code",
      "execution_count": 70,
      "metadata": {},
      "outputs": [],
      "source": [
        "eval_iters = 1\n",
        "eval_interval = 3\n",
        "log_file_path = \"loss_log.txt\"\n",
        "max_iters = 6\n",
        "learning_rate = 0.1\n",
        "# Create a list to store training and validation losses\n",
        "train_losses = []\n",
        "val_losses = []\n",
        "\n",
        "@torch.no_grad()\n",
        "def estimate_loss():\n",
        "    out = {}\n",
        "    model.eval()\n",
        "    for split in ['train', 'eval']:\n",
        "        losses = torch.zeros(eval_iters)\n",
        "        for k in range(eval_iters):\n",
        "            X, Y = get_batch(split)\n",
        "            probs, loss = model(X, Y)\n",
        "            losses[k] = loss.item()\n",
        "        out[split] = losses.mean()\n",
        "    model.train()\n",
        "    return out"
      ]
    },
    {
      "cell_type": "code",
      "execution_count": 71,
      "metadata": {},
      "outputs": [],
      "source": [
        "torch.cuda.empty_cache()"
      ]
    },
    {
      "cell_type": "code",
      "execution_count": 72,
      "metadata": {},
      "outputs": [],
      "source": [
        "# Initialize your EEGFormer model\n",
        "device='cuda'\n",
        "model = EEGFormer(B, S, C, L, M)\n",
        "model.to(device)\n",
        "optimizer = optim.Adam(model.parameters(), lr=learning_rate)"
      ]
    },
    {
      "cell_type": "code",
      "execution_count": 73,
      "metadata": {},
      "outputs": [],
      "source": [
        "inp= torch.rand(B, S,L).to(device)"
      ]
    },
    {
      "cell_type": "code",
      "execution_count": 74,
      "metadata": {},
      "outputs": [
        {
          "data": {
            "text/plain": [
              "(tensor([[0.5117],\n",
              "         [0.5123],\n",
              "         [0.5116]], device='cuda:0', dtype=torch.float64,\n",
              "        grad_fn=<SigmoidBackward0>),\n",
              " None)"
            ]
          },
          "execution_count": 74,
          "metadata": {},
          "output_type": "execute_result"
        }
      ],
      "source": [
        "model(inp)"
      ]
    },
    {
      "cell_type": "code",
      "execution_count": 63,
      "metadata": {},
      "outputs": [
        {
          "name": "stdout",
          "output_type": "stream",
          "text": [
            "Step 0: Train Loss 0.6812, Val Loss 0.6812\n",
            "Step 3: Train Loss 100.0000, Val Loss 100.0000\n",
            "Step 5: Train Loss 100.0000, Val Loss 100.0000\n"
          ]
        }
      ],
      "source": [
        "# Training loop\n",
        "for iter in range(max_iters):\n",
        "    # Every once in a while, evaluate the loss on train and val sets\n",
        "    if iter % eval_interval == 0 or iter == max_iters - 1:\n",
        "        losses = estimate_loss()\n",
        "        train_loss = losses['train']\n",
        "        val_loss = losses['eval']\n",
        "        print(f\"Step {iter}: Train Loss {train_loss:.4f}, Val Loss {val_loss:.4f}\")\n",
        "\n",
        "        # Append losses to the lists\n",
        "        train_losses.append(train_loss)\n",
        "        val_losses.append(val_loss)\n",
        "\n",
        "        # Log the losses to a text file\n",
        "        with open(log_file_path, \"a\") as log_file:\n",
        "            log_file.write(f\"Step {iter}: Train Loss {train_loss:.4f}, Val Loss {val_loss:.4f}\\n\")\n",
        "\n",
        "    # Sample a batch of data\n",
        "    xb, yb = get_batch('train')\n",
        "\n",
        "    # Evaluate the loss\n",
        "    logits, loss = model(xb, yb)\n",
        "    optimizer.zero_grad(set_to_none=True)\n",
        "    loss.backward()\n",
        "    optimizer.step()\n"
      ]
    },
    {
      "cell_type": "code",
      "execution_count": 67,
      "metadata": {},
      "outputs": [
        {
          "data": {
            "image/png": "[encoded data removed]",
            "text/plain": [
              "<Figure size 1000x500 with 1 Axes>"
            ]
          },
          "metadata": {},
          "output_type": "display_data"
        }
      ],
      "source": [
        "# Visualization\n",
        "import matplotlib.pyplot as plt\n",
        "\n",
        "plt.figure(figsize=(10, 5))\n",
        "plt.plot(train_losses, label='Train Loss')\n",
        "plt.plot(val_losses, label='Validation Loss')\n",
        "plt.xlabel('Epoch')\n",
        "plt.ylabel('Loss')\n",
        "plt.legend()\n",
        "plt.show()"
      ]
    }
  ],
  "metadata": {
    "colab": {
      "provenance": []
    },
    "kernelspec": {
      "display_name": "Python 3",
      "language": "python",
      "name": "python3"
    },
    "language_info": {
      "codemirror_mode": {
        "name": "ipython",
        "version": 3
      },
      "file_extension": ".py",
      "mimetype": "text/x-python",
      "name": "python",
      "nbconvert_exporter": "python",
      "pygments_lexer": "ipython3",
      "version": "3.10.6"
    },
    "orig_nbformat": 4
  },
  "nbformat": 4,
  "nbformat_minor": 0
}
