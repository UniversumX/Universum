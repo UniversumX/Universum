{
 "cells": [
  {
   "cell_type": "markdown",
   "id": "ef5822ea",
   "metadata": {},
   "source": [
    "Import Necessary Libraries"
   ]
  },
  {
   "cell_type": "code",
   "execution_count": 1,
   "id": "5f4b22d4",
   "metadata": {},
   "outputs": [],
   "source": [
    "import matplotlib.pyplot as plt\n",
    "import matplotlib\n",
    "import numpy as np\n",
    "import mne\n",
    "import os\n",
    "import argparse\n",
    "import pandas as pd\n",
    "from typing import Dict\n",
    "from loguru import logger\n",
    "# from DataCollection.actions import Action\n",
    "from scipy import stats\n",
    "from scipy import signal\n",
    "from scipy import integrate\n",
    "from sklearn.decomposition import PCA\n",
    "from dataclasses import dataclass"
   ]
  },
  {
   "cell_type": "code",
   "execution_count": 6,
   "id": "4843e183",
   "metadata": {},
   "outputs": [
    {
     "name": "stdout",
     "output_type": "stream",
     "text": [
      "/Users/yuelei/Desktop/Universum-clean/ModelDevelopment\n"
     ]
    }
   ],
   "source": [
    "print(os.getcwd())"
   ]
  },
  {
   "cell_type": "code",
   "execution_count": 2,
   "id": "f66741ad",
   "metadata": {},
   "outputs": [],
   "source": [
    "matplotlib.use(\"TkAgg\")  # TkAgg is a backend that uses the Tkinter GUI toolkit for rendering interactive plots in a separate interactive window, where you can zoom, pan, or save the plot.\n",
    "EPSILON = 1e-8  # constant EPSILON is a very small positive number, to avoid Division by Zero, and prevent Logarithmic Errors"
   ]
  },
  {
   "cell_type": "markdown",
   "id": "54fe4732",
   "metadata": {},
   "source": [
    "Define the `Action` data class, which encapsulates information about user actions in the EEG dataset."
   ]
  },
  {
   "cell_type": "code",
   "execution_count": 3,
   "id": "f8a96e17",
   "metadata": {},
   "outputs": [],
   "source": [
    "@dataclass\n",
    "class Action:\n",
    "    action_value: int\n",
    "    text: str\n",
    "    audio: str\n",
    "    image: str"
   ]
  },
  {
   "cell_type": "markdown",
   "id": "ef8756ad",
   "metadata": {},
   "source": [
    "Load data from the directory"
   ]
  },
  {
   "cell_type": "code",
   "execution_count": 10,
   "id": "d5f80c6e",
   "metadata": {},
   "outputs": [
    {
     "name": "stdout",
     "output_type": "stream",
     "text": [
      "Found files: ['/Users/yuelei/Desktop/Universum-clean/DataCollection/data/EEGdata/110/1/1/eeg_data_raw.csv', '/Users/yuelei/Desktop/Universum-clean/DataCollection/data/EEGdata/110/1/1/action_data.csv', '/Users/yuelei/Desktop/Universum-clean/DataCollection/data/EEGdata/110/1/1/accelerometer_data.csv']\n",
      "EEG Data Shape: (20127, 9)\n",
      "Accelerometer Data Shape: (582, 9)\n",
      "Action Data Shape: (57, 2)\n",
      "Directory exists: True\n",
      "Files in directory: ['eeg_data_raw.csv', 'action_data.csv', 'accelerometer_data.csv']\n"
     ]
    }
   ],
   "source": [
    "# Dynamically determine the base path (parent directory of ModelDevelopment)\n",
    "base_path = os.path.abspath(os.path.join(os.getcwd(), \"..\"))  # Move up one level\n",
    "# Construct the path to the target data directory\n",
    "data_directory_path = os.path.join(base_path, \"DataCollection\", \"data\", \"EEGdata\", \"110\", \"1\", \"1\")\n",
    "\n",
    "# Check if directory exists\n",
    "if os.path.exists(data_directory_path):\n",
    "    # Recursively search for the CSV files\n",
    "    found_files = []\n",
    "    for root, dirs, files in os.walk(data_directory_path):\n",
    "        for file in files:\n",
    "            if file in [\"eeg_data_raw.csv\", \"accelerometer_data.csv\", \"action_data.csv\"]:\n",
    "                found_files.append(os.path.join(root, file))\n",
    "    \n",
    "    # Verify found files\n",
    "    print(\"Found files:\", found_files)\n",
    "    \n",
    "    # Load the files if all are found\n",
    "    if len(found_files) == 3:\n",
    "        eeg_data = pd.read_csv([f for f in found_files if \"eeg_data_raw.csv\" in f][0])\n",
    "        accel_data = pd.read_csv([f for f in found_files if \"accelerometer_data.csv\" in f][0])\n",
    "        action_data = pd.read_csv([f for f in found_files if \"action_data.csv\" in f][0])\n",
    "        print(\"EEG Data Shape:\", eeg_data.shape)\n",
    "        print(\"Accelerometer Data Shape:\", accel_data.shape)\n",
    "        print(\"Action Data Shape:\", action_data.shape)\n",
    "    else:\n",
    "        print(\"Error: Not all required files were found!\")\n",
    "else:\n",
    "    print(\"Error: Directory does not exist!\")\n",
    "\n",
    "print(\"Directory exists:\", os.path.exists(data_directory_path))\n",
    "print(\"Files in directory:\", os.listdir(data_directory_path) if os.path.exists(data_directory_path) else \"Directory not found\")\n",
    "\n",
    "eeg_data = pd.read_csv(os.path.join(data_directory_path, \"eeg_data_raw.csv\"))\n",
    "accel_data = pd.read_csv(os.path.join(data_directory_path, \"accelerometer_data.csv\"))\n",
    "action_data = pd.read_csv(os.path.join(data_directory_path, \"action_data.csv\"))"
   ]
  },
  {
   "cell_type": "markdown",
   "id": "701f7096",
   "metadata": {},
   "source": [
    "Print data shapes"
   ]
  },
  {
   "cell_type": "code",
   "execution_count": 11,
   "id": "68959258",
   "metadata": {},
   "outputs": [
    {
     "name": "stdout",
     "output_type": "stream",
     "text": [
      "EEG Data Shape: (20127, 9)\n",
      "Accelerometer Data Shape: (582, 9)\n",
      "Action Data Shape: (57, 2)\n"
     ]
    }
   ],
   "source": [
    "print(\"EEG Data Shape:\", eeg_data.shape)\n",
    "print(\"Accelerometer Data Shape:\", accel_data.shape)\n",
    "print(\"Action Data Shape:\", action_data.shape)"
   ]
  },
  {
   "cell_type": "markdown",
   "id": "0e7903d5",
   "metadata": {},
   "source": [
    "Process action data\n",
    "Remove consecutive duplicate actions and end collection rows"
   ]
  },
  {
   "cell_type": "code",
   "execution_count": 12,
   "id": "69030fe0",
   "metadata": {},
   "outputs": [
    {
     "name": "stdout",
     "output_type": "stream",
     "text": [
      "Processed Action Data Shape: (16, 2)\n"
     ]
    }
   ],
   "source": [
    "action_data = action_data.loc[\n",
    "    (abs(action_data[\"action_value\"] - action_data[\"action_value\"].shift(1)) > 0)\n",
    "].reset_index(drop=True)\n",
    "action_data = action_data[action_data[\"action_value\"] != 5]\n",
    "print(\"Processed Action Data Shape:\", action_data.shape)"
   ]
  },
  {
   "cell_type": "markdown",
   "id": "b50583a2",
   "metadata": {},
   "source": [
    "Convert timestamps to seconds since epoch for all datasets"
   ]
  },
  {
   "cell_type": "code",
   "execution_count": 14,
   "id": "d8321b65",
   "metadata": {},
   "outputs": [
    {
     "name": "stdout",
     "output_type": "stream",
     "text": [
      "EEG Data Columns: Index(['141.270631407', '-49718.23046875', '-2875.260986328125',\n",
      "       '-6550.75927734375', '12230.6044921875', '8940.00390625',\n",
      "       '-21440.103515625', '-6175.11572265625', '-69093.8359375'],\n",
      "      dtype='object')\n",
      "Accelerometer Data Columns: Index(['timestamp', 'device_id', 'x', 'y', 'z', 'pitch', 'roll',\n",
      "       'acceleration', 'inclination'],\n",
      "      dtype='object')\n",
      "Action Data Columns: Index(['timestamp', 'action_value'], dtype='object')\n"
     ]
    }
   ],
   "source": [
    "#Check the column names of each DataFrame\n",
    "print(\"EEG Data Columns:\", eeg_data.columns)\n",
    "print(\"Accelerometer Data Columns:\", accel_data.columns)\n",
    "print(\"Action Data Columns:\", action_data.columns)"
   ]
  },
  {
   "cell_type": "code",
   "execution_count": 15,
   "id": "87e28322",
   "metadata": {},
   "outputs": [
    {
     "name": "stdout",
     "output_type": "stream",
     "text": [
      "Timestamps converted for Accelerometer and Action Data.\n",
      "EEG Data does not contain a timestamp column. Skipping conversion for EEG Data.\n"
     ]
    }
   ],
   "source": [
    "def convert_timestamp_to_time_since_last_epoch(df, timestamp_col=\"timestamp\"):\n",
    "    if timestamp_col in df.columns:\n",
    "        df[timestamp_col] = pd.to_datetime(df[timestamp_col]).astype(\"int64\") / 10**9\n",
    "    else:\n",
    "        print(f\"Warning: Column '{timestamp_col}' not found in DataFrame.\")\n",
    "    return df\n",
    "\n",
    "# Convert timestamps for accelerometer and action data\n",
    "accel_data = convert_timestamp_to_time_since_last_epoch(accel_data)\n",
    "action_data = convert_timestamp_to_time_since_last_epoch(action_data)\n",
    "print(\"Timestamps converted for Accelerometer and Action Data.\")\n",
    "\n",
    "# EEG data handling (no 'timestamp' column)\n",
    "print(\"EEG Data does not contain a timestamp column. Skipping conversion for EEG Data.\")"
   ]
  },
  {
   "cell_type": "markdown",
   "id": "d5d353f6",
   "metadata": {},
   "source": [
    "Align data to experiment start and end time"
   ]
  },
  {
   "cell_type": "code",
   "execution_count": 34,
   "id": "f49876dd",
   "metadata": {},
   "outputs": [
    {
     "name": "stdout",
     "output_type": "stream",
     "text": [
      "Experiment Start Time: nan\n",
      "Experiment End Time: nan\n",
      "EEG Data Shape after alignment: (0, 10)\n",
      "Accelerometer Data Shape after alignment: (0, 9)\n",
      "Action Data Shape after alignment: (0, 2)\n"
     ]
    }
   ],
   "source": [
    "# Ensure the EEG data has timestamps (generated or actual)\n",
    "if \"timestamp\" not in eeg_data.columns:\n",
    "    sampling_frequency = 256  # Replace with actual sampling frequency\n",
    "    eeg_data[\"timestamp\"] = np.arange(len(eeg_data)) / sampling_frequency\n",
    "\n",
    "# Align the data based on experiment start and end times\n",
    "experiment_start_time = max(\n",
    "    [accel_data[\"timestamp\"].min(), eeg_data[\"timestamp\"].min()]\n",
    ")\n",
    "experiment_end_time = min(\n",
    "    [accel_data[\"timestamp\"].max(), eeg_data[\"timestamp\"].max()]\n",
    ")\n",
    "\n",
    "print(\"Experiment Start Time:\", experiment_start_time)\n",
    "print(\"Experiment End Time:\", experiment_end_time)\n",
    "\n",
    "def align_data_to_experiment_start_and_end_time(df, start_time, end_time):\n",
    "    return df[(df[\"timestamp\"] >= start_time) & (df[\"timestamp\"] <= end_time)]\n",
    "\n",
    "eeg_data = align_data_to_experiment_start_and_end_time(\n",
    "    eeg_data, experiment_start_time, experiment_end_time\n",
    ")\n",
    "accel_data = align_data_to_experiment_start_and_end_time(\n",
    "    accel_data, experiment_start_time, experiment_end_time\n",
    ")\n",
    "action_data = align_data_to_experiment_start_and_end_time(\n",
    "    action_data, experiment_start_time, experiment_end_time\n",
    ")\n",
    "\n",
    "print(\"EEG Data Shape after alignment:\", eeg_data.shape)\n",
    "print(\"Accelerometer Data Shape after alignment:\", accel_data.shape)\n",
    "print(\"Action Data Shape after alignment:\", action_data.shape)"
   ]
  },
  {
   "cell_type": "markdown",
   "id": "78204201",
   "metadata": {},
   "source": [
    "Check the Original Data:"
   ]
  },
  {
   "cell_type": "code",
   "execution_count": 35,
   "id": "f8ffc777",
   "metadata": {},
   "outputs": [
    {
     "name": "stdout",
     "output_type": "stream",
     "text": [
      "Initial EEG Data Shape: (0, 10)\n",
      "Initial Accelerometer Data Shape: (0, 9)\n"
     ]
    }
   ],
   "source": [
    "# Debugging to ensure valid data is loaded\n",
    "print(\"Initial EEG Data Shape:\", eeg_data.shape)\n",
    "print(\"Initial Accelerometer Data Shape:\", accel_data.shape)"
   ]
  },
  {
   "cell_type": "markdown",
   "id": "c4e23214",
   "metadata": {},
   "source": [
    "Verify Timestamp Conversion"
   ]
  },
  {
   "cell_type": "code",
   "execution_count": 36,
   "id": "fe2d89dd",
   "metadata": {},
   "outputs": [
    {
     "name": "stdout",
     "output_type": "stream",
     "text": [
      "EEG Data Before Timestamp Conversion:\n",
      "Empty DataFrame\n",
      "Columns: [141.270631407, -49718.23046875, -2875.260986328125, -6550.75927734375, 12230.6044921875, 8940.00390625, -21440.103515625, -6175.11572265625, -69093.8359375, timestamp]\n",
      "Index: []\n",
      "Accelerometer Data Before Timestamp Conversion:\n",
      "Empty DataFrame\n",
      "Columns: [timestamp, device_id, x, y, z, pitch, roll, acceleration, inclination]\n",
      "Index: []\n",
      "EEG Data After Timestamp Conversion:\n",
      "Empty DataFrame\n",
      "Columns: [141.270631407, -49718.23046875, -2875.260986328125, -6550.75927734375, 12230.6044921875, 8940.00390625, -21440.103515625, -6175.11572265625, -69093.8359375, timestamp]\n",
      "Index: []\n",
      "Accelerometer Data After Timestamp Conversion:\n",
      "Empty DataFrame\n",
      "Columns: [timestamp, device_id, x, y, z, pitch, roll, acceleration, inclination]\n",
      "Index: []\n"
     ]
    }
   ],
   "source": [
    "print(\"EEG Data Before Timestamp Conversion:\")\n",
    "print(eeg_data.head())\n",
    "print(\"Accelerometer Data Before Timestamp Conversion:\")\n",
    "print(accel_data.head())\n",
    "\n",
    "# Check if timestamps were dropped\n",
    "print(\"EEG Data After Timestamp Conversion:\")\n",
    "print(eeg_data)\n",
    "print(\"Accelerometer Data After Timestamp Conversion:\")\n",
    "print(accel_data)"
   ]
  },
  {
   "cell_type": "code",
   "execution_count": null,
   "id": "dba1b423",
   "metadata": {},
   "outputs": [],
   "source": []
  },
  {
   "cell_type": "markdown",
   "id": "40bd726e",
   "metadata": {},
   "source": [
    "Ensure all timestamps are numeric and drop invalid rows"
   ]
  },
  {
   "cell_type": "code",
   "execution_count": 37,
   "id": "b48d729b",
   "metadata": {},
   "outputs": [],
   "source": [
    "def ensure_numeric_timestamps(df, timestamp_col=\"timestamp\"):\n",
    "    if timestamp_col in df.columns:\n",
    "        try:\n",
    "            # Convert timestamp to datetime and then to seconds since the epoch\n",
    "            df[timestamp_col] = pd.to_datetime(df[timestamp_col], errors=\"coerce\")\n",
    "            df[timestamp_col] = df[timestamp_col].astype(\"int64\") / 10**9  # Convert to float\n",
    "        except Exception as e:\n",
    "            print(f\"Error processing '{timestamp_col}': {e}\")\n",
    "            df[timestamp_col] = None  # Handle cases where conversion fails\n",
    "        df = df.dropna(subset=[timestamp_col])  # Drop rows where timestamp is NaN\n",
    "    else:\n",
    "        print(f\"Warning: '{timestamp_col}' not found in DataFrame.\")\n",
    "        df = pd.DataFrame()  # Return empty DataFrame if no timestamp column\n",
    "    return df"
   ]
  },
  {
   "cell_type": "markdown",
   "id": "88428a5f",
   "metadata": {},
   "source": [
    "Process timestamps"
   ]
  },
  {
   "cell_type": "code",
   "execution_count": 38,
   "id": "72a5415b",
   "metadata": {},
   "outputs": [
    {
     "name": "stdout",
     "output_type": "stream",
     "text": [
      "EEG Data Shape After Timestamp Processing: (0, 10)\n",
      "Accelerometer Data Shape After Timestamp Processing: (0, 9)\n"
     ]
    }
   ],
   "source": [
    "# Apply to EEG and Accelerometer data\n",
    "eeg_data = ensure_numeric_timestamps(eeg_data, timestamp_col=\"timestamp\")\n",
    "accel_data = ensure_numeric_timestamps(accel_data, timestamp_col=\"timestamp\")\n",
    "\n",
    "# Debugging processed data\n",
    "print(\"EEG Data Shape After Timestamp Processing:\", eeg_data.shape)\n",
    "print(\"Accelerometer Data Shape After Timestamp Processing:\", accel_data.shape)"
   ]
  },
  {
   "cell_type": "markdown",
   "id": "4727af2e",
   "metadata": {},
   "source": [
    "Handle empty DataFrames before interpolation"
   ]
  },
  {
   "cell_type": "code",
   "execution_count": null,
   "id": "4fe4371a",
   "metadata": {},
   "outputs": [
    {
     "name": "stdout",
     "output_type": "stream",
     "text": [
      "Error: One or both data sets are empty. Interpolation cannot proceed.\n"
     ]
    },
    {
     "ename": "",
     "evalue": "",
     "output_type": "error",
     "traceback": [
      "\u001b[1;31mThe Kernel crashed while executing code in the current cell or a previous cell. \n",
      "\u001b[1;31mPlease review the code in the cell(s) to identify a possible cause of the failure. \n",
      "\u001b[1;31mClick <a href='https://aka.ms/vscodeJupyterKernelCrash'>here</a> for more info. \n",
      "\u001b[1;31mView Jupyter <a href='command:jupyter.viewOutput'>log</a> for further details."
     ]
    }
   ],
   "source": [
    "if eeg_data.empty or accel_data.empty:\n",
    "    print(\"Error: One or both data sets are empty. Interpolation cannot proceed.\")\n",
    "else:\n",
    "    # Align accelerometer data with EEG timestamps\n",
    "    accel_data_columns = accel_data.columns\n",
    "    accel_data_np = accel_data.to_numpy()\n",
    "    new_accel_data = np.zeros((len(eeg_data), accel_data_np.shape[1]))\n",
    "    \n",
    "    for i in range(accel_data_np.shape[1]):\n",
    "        try:\n",
    "            new_accel_data[:, i] = np.interp(\n",
    "                eeg_data[\"timestamp\"], accel_data[\"timestamp\"], accel_data_np[:, i]\n",
    "            )\n",
    "        except ValueError as e:\n",
    "            print(f\"Interpolation error for column {accel_data_columns[i]}: {e}\")\n",
    "    \n",
    "    # Create a DataFrame from the interpolated data\n",
    "    accel_data = pd.DataFrame(new_accel_data, columns=accel_data_columns)\n",
    "    print(\"Accelerometer Data Shape after interpolation:\", accel_data.shape)\n"
   ]
  },
  {
   "cell_type": "markdown",
   "id": "76573e5e",
   "metadata": {},
   "source": [
    "Interpolate accelerometer data to align with EEG timestamps"
   ]
  },
  {
   "cell_type": "code",
   "execution_count": 21,
   "id": "ac125137",
   "metadata": {},
   "outputs": [
    {
     "name": "stdout",
     "output_type": "stream",
     "text": [
      "Series([], Name: timestamp, dtype: float64)\n",
      "Series([], Name: timestamp, dtype: float64)\n"
     ]
    },
    {
     "ename": "ValueError",
     "evalue": "array of sample points is empty",
     "output_type": "error",
     "traceback": [
      "\u001b[0;31m---------------------------------------------------------------------------\u001b[0m",
      "\u001b[0;31mValueError\u001b[0m                                Traceback (most recent call last)",
      "Cell \u001b[0;32mIn[21], line 15\u001b[0m\n\u001b[1;32m     13\u001b[0m new_accel_data \u001b[38;5;241m=\u001b[39m np\u001b[38;5;241m.\u001b[39mzeros((\u001b[38;5;28mlen\u001b[39m(eeg_data), accel_data_np\u001b[38;5;241m.\u001b[39mshape[\u001b[38;5;241m1\u001b[39m]))\n\u001b[1;32m     14\u001b[0m \u001b[38;5;28;01mfor\u001b[39;00m i \u001b[38;5;129;01min\u001b[39;00m \u001b[38;5;28mrange\u001b[39m(accel_data_np\u001b[38;5;241m.\u001b[39mshape[\u001b[38;5;241m1\u001b[39m]):\n\u001b[0;32m---> 15\u001b[0m     new_accel_data[:, i] \u001b[38;5;241m=\u001b[39m \u001b[43mnp\u001b[49m\u001b[38;5;241;43m.\u001b[39;49m\u001b[43minterp\u001b[49m\u001b[43m(\u001b[49m\n\u001b[1;32m     16\u001b[0m \u001b[43m        \u001b[49m\u001b[43meeg_data\u001b[49m\u001b[43m[\u001b[49m\u001b[38;5;124;43m\"\u001b[39;49m\u001b[38;5;124;43mtimestamp\u001b[39;49m\u001b[38;5;124;43m\"\u001b[39;49m\u001b[43m]\u001b[49m\u001b[43m,\u001b[49m\u001b[43m \u001b[49m\u001b[43maccel_data\u001b[49m\u001b[43m[\u001b[49m\u001b[38;5;124;43m\"\u001b[39;49m\u001b[38;5;124;43mtimestamp\u001b[39;49m\u001b[38;5;124;43m\"\u001b[39;49m\u001b[43m]\u001b[49m\u001b[43m,\u001b[49m\u001b[43m \u001b[49m\u001b[43maccel_data_np\u001b[49m\u001b[43m[\u001b[49m\u001b[43m:\u001b[49m\u001b[43m,\u001b[49m\u001b[43m \u001b[49m\u001b[43mi\u001b[49m\u001b[43m]\u001b[49m\n\u001b[1;32m     17\u001b[0m \u001b[43m    \u001b[49m\u001b[43m)\u001b[49m\n\u001b[1;32m     18\u001b[0m accel_data \u001b[38;5;241m=\u001b[39m pd\u001b[38;5;241m.\u001b[39mDataFrame(new_accel_data, columns\u001b[38;5;241m=\u001b[39maccel_data_columns)\n\u001b[1;32m     19\u001b[0m \u001b[38;5;28mprint\u001b[39m(\u001b[38;5;124m\"\u001b[39m\u001b[38;5;124mAccelerometer Data Shape after interpolation:\u001b[39m\u001b[38;5;124m\"\u001b[39m, accel_data\u001b[38;5;241m.\u001b[39mshape)\n",
      "File \u001b[0;32m<__array_function__ internals>:200\u001b[0m, in \u001b[0;36minterp\u001b[0;34m(*args, **kwargs)\u001b[0m\n",
      "File \u001b[0;32m~/Desktop/Universum-clean/neurotech_environment/lib/python3.11/site-packages/numpy/lib/function_base.py:1595\u001b[0m, in \u001b[0;36minterp\u001b[0;34m(x, xp, fp, left, right, period)\u001b[0m\n\u001b[1;32m   1592\u001b[0m     xp \u001b[38;5;241m=\u001b[39m np\u001b[38;5;241m.\u001b[39mconcatenate((xp[\u001b[38;5;241m-\u001b[39m\u001b[38;5;241m1\u001b[39m:]\u001b[38;5;241m-\u001b[39mperiod, xp, xp[\u001b[38;5;241m0\u001b[39m:\u001b[38;5;241m1\u001b[39m]\u001b[38;5;241m+\u001b[39mperiod))\n\u001b[1;32m   1593\u001b[0m     fp \u001b[38;5;241m=\u001b[39m np\u001b[38;5;241m.\u001b[39mconcatenate((fp[\u001b[38;5;241m-\u001b[39m\u001b[38;5;241m1\u001b[39m:], fp, fp[\u001b[38;5;241m0\u001b[39m:\u001b[38;5;241m1\u001b[39m]))\n\u001b[0;32m-> 1595\u001b[0m \u001b[38;5;28;01mreturn\u001b[39;00m \u001b[43minterp_func\u001b[49m\u001b[43m(\u001b[49m\u001b[43mx\u001b[49m\u001b[43m,\u001b[49m\u001b[43m \u001b[49m\u001b[43mxp\u001b[49m\u001b[43m,\u001b[49m\u001b[43m \u001b[49m\u001b[43mfp\u001b[49m\u001b[43m,\u001b[49m\u001b[43m \u001b[49m\u001b[43mleft\u001b[49m\u001b[43m,\u001b[49m\u001b[43m \u001b[49m\u001b[43mright\u001b[49m\u001b[43m)\u001b[49m\n",
      "\u001b[0;31mValueError\u001b[0m: array of sample points is empty"
     ]
    }
   ],
   "source": [
    "print(eeg_data[\"timestamp\"].head())\n",
    "print(accel_data[\"timestamp\"].head())\n",
    "# Ensure all columns in accel_data are numeric\n",
    "for col in accel_data.columns:\n",
    "    accel_data[col] = pd.to_numeric(accel_data[col], errors=\"coerce\")\n",
    "\n",
    "# Drop rows with invalid (NaN) values\n",
    "accel_data = accel_data.dropna()\n",
    "\n",
    "# Perform interpolation\n",
    "accel_data_columns = accel_data.columns\n",
    "accel_data_np = accel_data.to_numpy()\n",
    "new_accel_data = np.zeros((len(eeg_data), accel_data_np.shape[1]))\n",
    "for i in range(accel_data_np.shape[1]):\n",
    "    new_accel_data[:, i] = np.interp(\n",
    "        eeg_data[\"timestamp\"], accel_data[\"timestamp\"], accel_data_np[:, i]\n",
    "    )\n",
    "accel_data = pd.DataFrame(new_accel_data, columns=accel_data_columns)\n",
    "print(\"Accelerometer Data Shape after interpolation:\", accel_data.shape)\n"
   ]
  },
  {
   "cell_type": "markdown",
   "id": "8a895e52",
   "metadata": {},
   "source": [
    "Create MNE raw object"
   ]
  },
  {
   "cell_type": "code",
   "execution_count": null,
   "id": "862e2fc5",
   "metadata": {},
   "outputs": [],
   "source": [
    "ch_names = eeg_data.columns[1:].tolist()\n",
    "ch_types = [\"eeg\"] * len(ch_names)\n",
    "info = mne.create_info(ch_names=ch_names, sfreq=256, ch_types=ch_types)\n",
    "eeg_data_array = eeg_data[ch_names].to_numpy().T\n",
    "raw = mne.io.RawArray(eeg_data_array, info)\n",
    "print(\"Raw MNE Object created.\")"
   ]
  },
  {
   "cell_type": "markdown",
   "id": "8de975f9",
   "metadata": {},
   "source": [
    "Apply band-pass filter"
   ]
  },
  {
   "cell_type": "code",
   "execution_count": null,
   "id": "6bce58b4",
   "metadata": {},
   "outputs": [],
   "source": [
    "raw.filter(l_freq=1, h_freq=45, fir_design=\"firwin\")\n",
    "print(\"Band-pass filter applied.\")"
   ]
  },
  {
   "cell_type": "markdown",
   "id": "863bcb8c",
   "metadata": {},
   "source": [
    "Epoch the data"
   ]
  },
  {
   "cell_type": "code",
   "execution_count": null,
   "id": "83cc0004",
   "metadata": {},
   "outputs": [],
   "source": [
    "events = []\n",
    "eeg_data[\"timestamp\"] = pd.to_datetime(eeg_data[\"timestamp\"])\n",
    "action_data[\"timestamp\"] = pd.to_datetime(action_data[\"timestamp\"])\n",
    "for index, row in action_data.iterrows():\n",
    "    sample = np.argmin(np.abs(eeg_data[\"timestamp\"] - row[\"timestamp\"]))\n",
    "    events.append([sample, 0, int(row[\"action_value\"])])\n",
    "events = np.array(events)\n",
    "event_dict = {\"action_value\": action_data[\"action_value\"].unique().tolist()}\n",
    "\n",
    "epochs = mne.Epochs(\n",
    "    raw, events, event_id=event_dict, tmin=0, tmax=2, preload=True\n",
    ")\n",
    "x = epochs.get_data()\n",
    "print(\"Epoch Data Shape:\", x.shape)"
   ]
  },
  {
   "cell_type": "markdown",
   "id": "d127230d",
   "metadata": {},
   "source": [
    "Compute SNR before filtering"
   ]
  },
  {
   "cell_type": "code",
   "execution_count": null,
   "id": "7249c9e7",
   "metadata": {},
   "outputs": [],
   "source": [
    "snr_values = np.apply_along_axis(lambda signal: 10 * np.log10(np.mean(signal**2) / np.var(signal - np.mean(signal))), axis=-1, arr=x)\n",
    "print(\"SNR Shape:\", snr_values.shape)"
   ]
  },
  {
   "cell_type": "markdown",
   "id": "f9d7ec7d",
   "metadata": {},
   "source": [
    "Apply Wiener filter and compute SNR after filtering"
   ]
  },
  {
   "cell_type": "code",
   "execution_count": null,
   "id": "6dd419af",
   "metadata": {},
   "outputs": [],
   "source": [
    "x_filtered = signal.wiener(x.reshape(-1)).reshape(x.shape)\n",
    "snr_filtered = np.apply_along_axis(lambda signal: 10 * np.log10(np.mean(signal**2) / np.var(signal - np.mean(signal))), axis=-1, arr=x_filtered)\n",
    "print(\"SNR After Filtering Shape:\", snr_filtered.shape)"
   ]
  },
  {
   "cell_type": "markdown",
   "id": "e1aa66bc",
   "metadata": {},
   "source": [
    "Feature extraction"
   ]
  },
  {
   "cell_type": "code",
   "execution_count": null,
   "id": "51c08f22",
   "metadata": {},
   "outputs": [],
   "source": [
    "num_epochs, num_channels, num_samples = x_filtered.shape\n",
    "x_flattened = x_filtered.reshape(num_channels, -1)\n",
    "pca = PCA(n_components=32)\n",
    "pca_features = pca.fit_transform(x_flattened.T).T\n",
    "print(\"PCA Features Shape:\", pca_features.shape)\n"
   ]
  },
  {
   "cell_type": "code",
   "execution_count": 8,
   "id": "3ed722a9",
   "metadata": {},
   "outputs": [],
   "source": [
    "def convert_timestamp_to_time_since_last_epoch(df):\n",
    "    \"\"\"Converts the timestamp to time since the last epoch.\"\"\"\n",
    "    df[\"timestamp\"] = pd.to_datetime(df[\"timestamp\"]).astype(int) / 10**9\n",
    "    #Converts the timestamp column to pandas datetime format\n",
    "    #a column of datetime64[ns] objects as the number of nanoseconds since the Unix epoch (January 1, 1970, 00:00:00 UTC).\n",
    "    #Then convert the datetime64[ns] type to int, it returns the raw nanoseconds since the epoch.\n",
    "    #Dividing by 10**9 (1 billion) converts the nanosecond-based timestamp into seconds.\n",
    "    return df\n",
    "\n",
    "def align_data_to_experiment_start_and_end_time(df, start_time: float, end_time: float):\n",
    "    \"\"\"Aligns the data to the experiment start and end time.\"\"\"\n",
    "    #Ensures that the end_time is greater than the start_time before proceeding.\n",
    "    #If this condition is not true, the program will raise an AssertionError and stop execution.\n",
    "    assert end_time > start_time\n",
    "    #Selects rows where the timestamp value is greater than or equal to start_time\n",
    "    #Selects rows where the timestamp value is less than or equal to end_time\n",
    "    #The & operator performs an element-wise logical \"AND\". \n",
    "    #Only rows that satisfy both conditions will be included.\n",
    "    #Returns a new DataFrame with only the rows that satisfy the time range condition\n",
    "    return df[(df[\"timestamp\"] >= start_time) & (df[\"timestamp\"] <= end_time)]\n",
    "\n",
    "def time_align_accel_data_by_linearly_interpolating(accel_data, eeg_data):\n",
    "    \"\"\"Aligns accelerometer data with EEG data using linear interpolation.\"\"\"\n",
    "    #align accel_data to match the timestamps in eeg_data by interpolating the accelerometer data values.\n",
    "    #Stores the column names of accel_data as accel_data_columns for later use in the final DataFrame\n",
    "    #to ensure the returned DataFrame has the same structure as the original\n",
    "    accel_data_columns = accel_data.columns\n",
    "    #Converts accel_data to a 2D Numpy Array\n",
    "    #where rows correspond to timestamps and columns correspond to accelerometer measurements.\n",
    "    accel_data_np = accel_data.to_numpy()\n",
    "    #Creates an empty NumPy array to store the interpolated accelerometer data.\n",
    "    #The number of rows matches the number of rows in eeg_data (the number of EEG timestamps).\n",
    "    #The number of columns matches the number of columns in accel_data_np.\n",
    "    new_accel_data = np.zeros((len(eeg_data), accel_data_np.shape[1]))\n",
    "    for i in range(accel_data_np.shape[1]):\n",
    "        new_accel_data[:, i] = np.interp(\n",
    "            eeg_data[\"timestamp\"],\n",
    "            accel_data[\"timestamp\"],\n",
    "            accel_data_np[:, i],\n",
    "        )\n",
    "    #new_accel_data is transformed back into a DataFrame using the original column names\n",
    "    return pd.DataFrame(new_accel_data, columns=accel_data_columns)"
   ]
  }
 ],
 "metadata": {
  "kernelspec": {
   "display_name": "neurotech_environment",
   "language": "python",
   "name": "python3"
  },
  "language_info": {
   "codemirror_mode": {
    "name": "ipython",
    "version": 3
   },
   "file_extension": ".py",
   "mimetype": "text/x-python",
   "name": "python",
   "nbconvert_exporter": "python",
   "pygments_lexer": "ipython3",
   "version": "3.11.6"
  }
 },
 "nbformat": 4,
 "nbformat_minor": 5
}
